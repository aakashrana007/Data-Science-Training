{
  "nbformat": 4,
  "nbformat_minor": 0,
  "metadata": {
    "colab": {
      "provenance": [],
      "authorship_tag": "ABX9TyOGau5U0VeDSe5TnipSsyic",
      "include_colab_link": true
    },
    "kernelspec": {
      "name": "python3",
      "display_name": "Python 3"
    },
    "language_info": {
      "name": "python"
    }
  },
  "cells": [
    {
      "cell_type": "markdown",
      "metadata": {
        "id": "view-in-github",
        "colab_type": "text"
      },
      "source": [
        "<a href=\"https://colab.research.google.com/github/aakashrana007/Data-Science-Training/blob/main/Linear_Regression%2Cipynb.ipynb\" target=\"_parent\"><img src=\"https://colab.research.google.com/assets/colab-badge.svg\" alt=\"Open In Colab\"/></a>"
      ]
    },
    {
      "cell_type": "markdown",
      "source": [
        "1. Import necessary libraries or packages"
      ],
      "metadata": {
        "id": "ZolKWatZmw6N"
      }
    },
    {
      "cell_type": "code",
      "execution_count": null,
      "metadata": {
        "id": "IdduAaKuiZg2"
      },
      "outputs": [],
      "source": [
        "import numpy as np\n",
        "import matplotlib.pyplot as plt\n",
        "import pandas as pd\n",
        "from sklearn import datasets\n",
        "from sklearn.model_selection import train_test_split\n",
        "from sklearn.linear_model import LinearRegression\n",
        "from sklearn.metrics import mean_squared_error #only for linear regression for calculating the dispersed points distance"
      ]
    },
    {
      "cell_type": "markdown",
      "source": [
        "* **Train 80% and test 20% from total data of 100%**"
      ],
      "metadata": {
        "id": "GXuwokdxk4eS"
      }
    },
    {
      "cell_type": "markdown",
      "source": [
        "* Every algorithm have their own performance matrix"
      ],
      "metadata": {
        "id": "AKbpWQCglIdx"
      }
    },
    {
      "cell_type": "markdown",
      "source": [
        "2. Load Dataset"
      ],
      "metadata": {
        "id": "PcMko3Ssm5Ia"
      }
    },
    {
      "cell_type": "code",
      "source": [
        "diabetes=datasets.load_diabetes()"
      ],
      "metadata": {
        "id": "d7GMBsKtmXFF"
      },
      "execution_count": null,
      "outputs": []
    },
    {
      "cell_type": "code",
      "source": [
        "#print dataset description\n",
        "print(diabetes.DESCR)"
      ],
      "metadata": {
        "colab": {
          "base_uri": "https://localhost:8080/"
        },
        "id": "idF23oPPnM5w",
        "outputId": "c090a540-e271-4576-add1-2f8a1d8e5695"
      },
      "execution_count": null,
      "outputs": [
        {
          "output_type": "stream",
          "name": "stdout",
          "text": [
            ".. _diabetes_dataset:\n",
            "\n",
            "Diabetes dataset\n",
            "----------------\n",
            "\n",
            "Ten baseline variables, age, sex, body mass index, average blood\n",
            "pressure, and six blood serum measurements were obtained for each of n =\n",
            "442 diabetes patients, as well as the response of interest, a\n",
            "quantitative measure of disease progression one year after baseline.\n",
            "\n",
            "**Data Set Characteristics:**\n",
            "\n",
            "  :Number of Instances: 442\n",
            "\n",
            "  :Number of Attributes: First 10 columns are numeric predictive values\n",
            "\n",
            "  :Target: Column 11 is a quantitative measure of disease progression one year after baseline\n",
            "\n",
            "  :Attribute Information:\n",
            "      - age     age in years\n",
            "      - sex\n",
            "      - bmi     body mass index\n",
            "      - bp      average blood pressure\n",
            "      - s1      tc, total serum cholesterol\n",
            "      - s2      ldl, low-density lipoproteins\n",
            "      - s3      hdl, high-density lipoproteins\n",
            "      - s4      tch, total cholesterol / HDL\n",
            "      - s5      ltg, possibly log of serum triglycerides level\n",
            "      - s6      glu, blood sugar level\n",
            "\n",
            "Note: Each of these 10 feature variables have been mean centered and scaled by the standard deviation times the square root of `n_samples` (i.e. the sum of squares of each column totals 1).\n",
            "\n",
            "Source URL:\n",
            "https://www4.stat.ncsu.edu/~boos/var.select/diabetes.html\n",
            "\n",
            "For more information see:\n",
            "Bradley Efron, Trevor Hastie, Iain Johnstone and Robert Tibshirani (2004) \"Least Angle Regression,\" Annals of Statistics (with discussion), 407-499.\n",
            "(https://web.stanford.edu/~hastie/Papers/LARS/LeastAngle_2002.pdf)\n",
            "\n"
          ]
        }
      ]
    },
    {
      "cell_type": "code",
      "source": [
        "#Extract the feature and target variables\n",
        "X = diabetes.data\n",
        "Y = diabetes.target"
      ],
      "metadata": {
        "id": "k2qSESRynRah"
      },
      "execution_count": null,
      "outputs": []
    },
    {
      "cell_type": "code",
      "source": [
        "X\n"
      ],
      "metadata": {
        "colab": {
          "base_uri": "https://localhost:8080/"
        },
        "id": "sqjhy9C9oObj",
        "outputId": "9a4e8e5f-4517-4458-ce51-92308b505b0b"
      },
      "execution_count": null,
      "outputs": [
        {
          "output_type": "execute_result",
          "data": {
            "text/plain": [
              "array([[ 0.03807591,  0.05068012,  0.06169621, ..., -0.00259226,\n",
              "         0.01990749, -0.01764613],\n",
              "       [-0.00188202, -0.04464164, -0.05147406, ..., -0.03949338,\n",
              "        -0.06833155, -0.09220405],\n",
              "       [ 0.08529891,  0.05068012,  0.04445121, ..., -0.00259226,\n",
              "         0.00286131, -0.02593034],\n",
              "       ...,\n",
              "       [ 0.04170844,  0.05068012, -0.01590626, ..., -0.01107952,\n",
              "        -0.04688253,  0.01549073],\n",
              "       [-0.04547248, -0.04464164,  0.03906215, ...,  0.02655962,\n",
              "         0.04452873, -0.02593034],\n",
              "       [-0.04547248, -0.04464164, -0.0730303 , ..., -0.03949338,\n",
              "        -0.00422151,  0.00306441]])"
            ]
          },
          "metadata": {},
          "execution_count": 7
        }
      ]
    },
    {
      "cell_type": "code",
      "source": [
        "Y"
      ],
      "metadata": {
        "colab": {
          "base_uri": "https://localhost:8080/"
        },
        "id": "VPhIVW7OoXxv",
        "outputId": "5933553f-74bc-4765-f890-21fb4bc68d95"
      },
      "execution_count": null,
      "outputs": [
        {
          "output_type": "execute_result",
          "data": {
            "text/plain": [
              "array([151.,  75., 141., 206., 135.,  97., 138.,  63., 110., 310., 101.,\n",
              "        69., 179., 185., 118., 171., 166., 144.,  97., 168.,  68.,  49.,\n",
              "        68., 245., 184., 202., 137.,  85., 131., 283., 129.,  59., 341.,\n",
              "        87.,  65., 102., 265., 276., 252.,  90., 100.,  55.,  61.,  92.,\n",
              "       259.,  53., 190., 142.,  75., 142., 155., 225.,  59., 104., 182.,\n",
              "       128.,  52.,  37., 170., 170.,  61., 144.,  52., 128.,  71., 163.,\n",
              "       150.,  97., 160., 178.,  48., 270., 202., 111.,  85.,  42., 170.,\n",
              "       200., 252., 113., 143.,  51.,  52., 210.,  65., 141.,  55., 134.,\n",
              "        42., 111.,  98., 164.,  48.,  96.,  90., 162., 150., 279.,  92.,\n",
              "        83., 128., 102., 302., 198.,  95.,  53., 134., 144., 232.,  81.,\n",
              "       104.,  59., 246., 297., 258., 229., 275., 281., 179., 200., 200.,\n",
              "       173., 180.,  84., 121., 161.,  99., 109., 115., 268., 274., 158.,\n",
              "       107.,  83., 103., 272.,  85., 280., 336., 281., 118., 317., 235.,\n",
              "        60., 174., 259., 178., 128.,  96., 126., 288.,  88., 292.,  71.,\n",
              "       197., 186.,  25.,  84.,  96., 195.,  53., 217., 172., 131., 214.,\n",
              "        59.,  70., 220., 268., 152.,  47.,  74., 295., 101., 151., 127.,\n",
              "       237., 225.,  81., 151., 107.,  64., 138., 185., 265., 101., 137.,\n",
              "       143., 141.,  79., 292., 178.,  91., 116.,  86., 122.,  72., 129.,\n",
              "       142.,  90., 158.,  39., 196., 222., 277.,  99., 196., 202., 155.,\n",
              "        77., 191.,  70.,  73.,  49.,  65., 263., 248., 296., 214., 185.,\n",
              "        78.,  93., 252., 150.,  77., 208.,  77., 108., 160.,  53., 220.,\n",
              "       154., 259.,  90., 246., 124.,  67.,  72., 257., 262., 275., 177.,\n",
              "        71.,  47., 187., 125.,  78.,  51., 258., 215., 303., 243.,  91.,\n",
              "       150., 310., 153., 346.,  63.,  89.,  50.,  39., 103., 308., 116.,\n",
              "       145.,  74.,  45., 115., 264.,  87., 202., 127., 182., 241.,  66.,\n",
              "        94., 283.,  64., 102., 200., 265.,  94., 230., 181., 156., 233.,\n",
              "        60., 219.,  80.,  68., 332., 248.,  84., 200.,  55.,  85.,  89.,\n",
              "        31., 129.,  83., 275.,  65., 198., 236., 253., 124.,  44., 172.,\n",
              "       114., 142., 109., 180., 144., 163., 147.,  97., 220., 190., 109.,\n",
              "       191., 122., 230., 242., 248., 249., 192., 131., 237.,  78., 135.,\n",
              "       244., 199., 270., 164.,  72.,  96., 306.,  91., 214.,  95., 216.,\n",
              "       263., 178., 113., 200., 139., 139.,  88., 148.,  88., 243.,  71.,\n",
              "        77., 109., 272.,  60.,  54., 221.,  90., 311., 281., 182., 321.,\n",
              "        58., 262., 206., 233., 242., 123., 167.,  63., 197.,  71., 168.,\n",
              "       140., 217., 121., 235., 245.,  40.,  52., 104., 132.,  88.,  69.,\n",
              "       219.,  72., 201., 110.,  51., 277.,  63., 118.,  69., 273., 258.,\n",
              "        43., 198., 242., 232., 175.,  93., 168., 275., 293., 281.,  72.,\n",
              "       140., 189., 181., 209., 136., 261., 113., 131., 174., 257.,  55.,\n",
              "        84.,  42., 146., 212., 233.,  91., 111., 152., 120.,  67., 310.,\n",
              "        94., 183.,  66., 173.,  72.,  49.,  64.,  48., 178., 104., 132.,\n",
              "       220.,  57.])"
            ]
          },
          "metadata": {},
          "execution_count": 8
        }
      ]
    },
    {
      "cell_type": "code",
      "source": [
        "#split the data into training and testing sets (80% train and 20% test)\n",
        "X_train, X_test, Y_train, Y_test = train_test_split(X,Y,test_size=0.2, random_state=42)\n",
        "\n",
        "#random_state is initialized for prediction of data accurately"
      ],
      "metadata": {
        "id": "qI9uOS2roYaZ"
      },
      "execution_count": null,
      "outputs": []
    },
    {
      "cell_type": "code",
      "source": [
        "X_train\n"
      ],
      "metadata": {
        "colab": {
          "base_uri": "https://localhost:8080/"
        },
        "id": "eKbAAnZ6pJ9b",
        "outputId": "07da0836-9775-4fec-b936-1bc7825a596b"
      },
      "execution_count": null,
      "outputs": [
        {
          "output_type": "execute_result",
          "data": {
            "text/plain": [
              "array([[ 0.07076875,  0.05068012,  0.01211685, ...,  0.03430886,\n",
              "         0.02736405, -0.0010777 ],\n",
              "       [-0.00914709,  0.05068012, -0.01806189, ...,  0.07120998,\n",
              "         0.00027248,  0.01963284],\n",
              "       [ 0.00538306, -0.04464164,  0.04984027, ..., -0.00259226,\n",
              "         0.01703607, -0.01350402],\n",
              "       ...,\n",
              "       [ 0.03081083, -0.04464164, -0.02021751, ..., -0.03949338,\n",
              "        -0.01090325, -0.0010777 ],\n",
              "       [-0.01277963, -0.04464164, -0.02345095, ..., -0.00259226,\n",
              "        -0.03845972, -0.03835666],\n",
              "       [-0.09269548, -0.04464164,  0.02828403, ..., -0.03949338,\n",
              "        -0.00514219, -0.0010777 ]])"
            ]
          },
          "metadata": {},
          "execution_count": 10
        }
      ]
    },
    {
      "cell_type": "code",
      "source": [
        "X_test"
      ],
      "metadata": {
        "colab": {
          "base_uri": "https://localhost:8080/"
        },
        "id": "YYijC-e-pORO",
        "outputId": "88c9e3af-e655-4b7b-b2d3-32ae9243e1b8"
      },
      "execution_count": null,
      "outputs": [
        {
          "output_type": "execute_result",
          "data": {
            "text/plain": [
              "array([[ 0.04534098, -0.04464164, -0.00620595, -0.01599898,  0.1250187 ,\n",
              "         0.1251981 ,  0.019187  ,  0.03430886,  0.03243232, -0.0052198 ],\n",
              "       [ 0.09256398, -0.04464164,  0.03690653,  0.02187239, -0.02496016,\n",
              "        -0.01665815,  0.00077881, -0.03949338, -0.02251653, -0.02178823],\n",
              "       [ 0.06350368,  0.05068012, -0.00405033, -0.01255612,  0.10300346,\n",
              "         0.04878988,  0.05600338, -0.00259226,  0.08449153, -0.01764613],\n",
              "       [ 0.09619652, -0.04464164,  0.0519959 ,  0.07926471,  0.05484511,\n",
              "         0.03657709, -0.07653559,  0.14132211,  0.09864806,  0.06105391],\n",
              "       [ 0.01264814,  0.05068012, -0.02021751, -0.00222757,  0.03833367,\n",
              "         0.05317395, -0.00658447,  0.03430886, -0.00514219, -0.00936191],\n",
              "       [ 0.0090156 , -0.04464164, -0.02452876, -0.02632753,  0.0988756 ,\n",
              "         0.0941964 ,  0.07072993, -0.00259226, -0.02139531,  0.00720652],\n",
              "       [-0.00914709,  0.05068012,  0.17055523,  0.01498668,  0.03007796,\n",
              "         0.03375875, -0.02131102,  0.03430886,  0.03365381,  0.03205916],\n",
              "       [-0.02367725,  0.05068012,  0.04552903,  0.02187239,  0.10988322,\n",
              "         0.08887288,  0.00077881,  0.03430886,  0.0741909 ,  0.06105391],\n",
              "       [-0.09269548,  0.05068012, -0.0902753 , -0.05731319, -0.02496016,\n",
              "        -0.03043668, -0.00658447, -0.00259226,  0.02405509,  0.00306441],\n",
              "       [-0.06000263,  0.05068012,  0.01535029, -0.01944183,  0.03695772,\n",
              "         0.04816358,  0.019187  , -0.00259226, -0.03074792, -0.0010777 ],\n",
              "       [-0.04183994, -0.04464164, -0.03315126, -0.02288468,  0.04658939,\n",
              "         0.04158746,  0.05600338, -0.02473293, -0.02595311, -0.03835666],\n",
              "       [ 0.00538306, -0.04464164, -0.05794093, -0.02288468, -0.0676147 ,\n",
              "        -0.06832765, -0.05444576, -0.00259226,  0.04289704, -0.08391984],\n",
              "       [-0.08906294, -0.04464164, -0.06117437, -0.02632753, -0.05523112,\n",
              "        -0.05454912,  0.04127682, -0.0763945 , -0.09393727, -0.05492509],\n",
              "       [ 0.01991321,  0.05068012,  0.01427248,  0.0631866 ,  0.01494247,\n",
              "         0.02029337, -0.04708248,  0.03430886,  0.04666178,  0.09004865],\n",
              "       [-0.01277963,  0.05068012, -0.05578531, -0.00222757, -0.02771206,\n",
              "        -0.02918409,  0.019187  , -0.03949338, -0.01705628,  0.04448548],\n",
              "       [-0.03457486,  0.05068012,  0.00564998, -0.00567042, -0.07311851,\n",
              "        -0.06269098, -0.00658447, -0.03949338, -0.04542404,  0.03205916],\n",
              "       [ 0.04170844,  0.05068012,  0.07139652,  0.00810098,  0.03833367,\n",
              "         0.01590929, -0.01762938,  0.03430886,  0.07340696,  0.08590655],\n",
              "       [ 0.06350368,  0.05068012,  0.08864151,  0.0700723 ,  0.02044629,\n",
              "         0.03751653, -0.05076412,  0.07120998,  0.02929656,  0.07348023],\n",
              "       [-0.03094232,  0.05068012,  0.02828403,  0.0700723 , -0.12678067,\n",
              "        -0.10684491, -0.05444576, -0.04798064, -0.03074792,  0.01549073],\n",
              "       [ 0.04897352,  0.05068012,  0.05846277,  0.0700723 ,  0.01356652,\n",
              "         0.02060651, -0.02131102,  0.03430886,  0.02200407,  0.02791705],\n",
              "       [-0.07090025, -0.04464164,  0.03906215, -0.03321323, -0.01257658,\n",
              "        -0.03450761, -0.02499266, -0.00259226,  0.06773705, -0.01350402],\n",
              "       [ 0.04897352, -0.04464164, -0.04285156, -0.05387034,  0.04521344,\n",
              "         0.05004247,  0.03391355, -0.00259226, -0.02595311, -0.0632093 ],\n",
              "       [-0.04183994, -0.04464164, -0.04931844, -0.03665608, -0.00707277,\n",
              "        -0.02260797,  0.08545648, -0.03949338, -0.0664902 ,  0.00720652],\n",
              "       [ 0.05987114,  0.05068012,  0.02289497,  0.04941519,  0.01631843,\n",
              "         0.01183836, -0.01394774, -0.00259226,  0.03954249,  0.01963284],\n",
              "       [-0.06000263, -0.04464164,  0.04445121, -0.01944183, -0.00982468,\n",
              "        -0.00757685,  0.02286863, -0.03949338, -0.02712902, -0.00936191],\n",
              "       [ 0.04170844,  0.05068012,  0.01427248,  0.04252949, -0.03046397,\n",
              "        -0.00131388, -0.04340085, -0.00259226, -0.03324559,  0.01549073],\n",
              "       [ 0.03081083,  0.05068012,  0.05954058,  0.0563009 , -0.02220825,\n",
              "         0.00119131, -0.03235593, -0.00259226, -0.02479543, -0.01764613],\n",
              "       [ 0.03807591,  0.05068012, -0.01806189,  0.06662945, -0.05110326,\n",
              "        -0.01665815, -0.07653559,  0.03430886, -0.01189685, -0.01350402],\n",
              "       [-0.05637009, -0.04464164, -0.07410811, -0.05042748, -0.02496016,\n",
              "        -0.04703355,  0.09281975, -0.0763945 , -0.0611758 , -0.04664087],\n",
              "       [ 0.01628068,  0.05068012, -0.02129532, -0.00911327,  0.03420581,\n",
              "         0.04785043,  0.00077881, -0.00259226, -0.01290868,  0.02377494],\n",
              "       [ 0.02717829, -0.04464164,  0.09295276, -0.0527342 ,  0.00806271,\n",
              "         0.03970857, -0.02867429,  0.02102446, -0.04835926,  0.01963284],\n",
              "       [-0.10359309, -0.04464164, -0.0374625 , -0.02632753,  0.0025589 ,\n",
              "         0.01998022,  0.01182372, -0.00259226, -0.06833155, -0.02593034],\n",
              "       [-0.00188202,  0.05068012,  0.01427248, -0.07452744,  0.0025589 ,\n",
              "         0.00620169, -0.01394774, -0.00259226,  0.01919647,  0.00306441],\n",
              "       [ 0.02717829,  0.05068012, -0.00620595,  0.02875809, -0.01670444,\n",
              "        -0.00162703, -0.0581274 ,  0.03430886,  0.02929656,  0.03205916],\n",
              "       [ 0.09619652, -0.04464164,  0.04013997, -0.05731319,  0.04521344,\n",
              "         0.06068952, -0.02131102,  0.03615391,  0.01255119,  0.02377494],\n",
              "       [-0.07816532,  0.05068012,  0.07786339,  0.05285804,  0.07823631,\n",
              "         0.0644473 ,  0.02655027, -0.00259226,  0.04067283, -0.00936191],\n",
              "       [-0.00914709,  0.05068012, -0.03099563, -0.02632753, -0.01120063,\n",
              "        -0.00100073, -0.02131102, -0.00259226,  0.00620674,  0.02791705],\n",
              "       [-0.00188202,  0.05068012, -0.03315126, -0.01830569,  0.03145391,\n",
              "         0.04284006, -0.01394774,  0.01991742,  0.01022672,  0.02791705],\n",
              "       [ 0.06713621,  0.05068012, -0.03099563,  0.00465813,  0.02457414,\n",
              "         0.03563764, -0.02867429,  0.03430886,  0.02337142,  0.08176444],\n",
              "       [ 0.01991321, -0.04464164, -0.05794093, -0.05731319, -0.00156896,\n",
              "        -0.01258722,  0.07441156, -0.03949338, -0.0611758 , -0.07563562],\n",
              "       [-0.00188202, -0.04464164, -0.06979687, -0.01255612, -0.00019301,\n",
              "        -0.00914259,  0.07072993, -0.03949338, -0.06291688,  0.04034337],\n",
              "       [ 0.06713621,  0.05068012, -0.02991782,  0.05743704, -0.00019301,\n",
              "        -0.01571871,  0.07441156, -0.05056372, -0.03845972,  0.00720652],\n",
              "       [ 0.04170844,  0.05068012, -0.02237314,  0.02875809, -0.06623874,\n",
              "        -0.04515466, -0.06180903, -0.00259226,  0.00286131, -0.05492509],\n",
              "       [ 0.11072668,  0.05068012, -0.03315126, -0.02288468, -0.00432087,\n",
              "         0.02029337, -0.06180903,  0.07120998,  0.01556846,  0.04448548],\n",
              "       [ 0.04170844, -0.04464164, -0.04500719,  0.03450765,  0.04383748,\n",
              "        -0.01571871,  0.03759519, -0.01440062,  0.08989708,  0.00720652],\n",
              "       [-0.01641217, -0.04464164, -0.03530688, -0.02632753,  0.03282986,\n",
              "         0.01716188,  0.10018303, -0.03949338, -0.07020936, -0.07977773],\n",
              "       [-0.09632802, -0.04464164, -0.03638469, -0.07452744, -0.03871969,\n",
              "        -0.02761835,  0.01550536, -0.03949338, -0.07409261, -0.0010777 ],\n",
              "       [ 0.03081083, -0.04464164, -0.05039625, -0.00222757, -0.0442235 ,\n",
              "        -0.08993489,  0.11859122, -0.0763945 , -0.01811369,  0.00306441],\n",
              "       [-0.02004471, -0.04464164, -0.08488624, -0.02632753, -0.03596778,\n",
              "        -0.03419447,  0.04127682, -0.05167075, -0.08237869, -0.04664087],\n",
              "       [-0.06000263, -0.04464164,  0.00133873, -0.02977038, -0.00707277,\n",
              "        -0.02166853,  0.01182372, -0.00259226,  0.03181246, -0.05492509],\n",
              "       [ 0.00538306, -0.04464164,  0.05846277, -0.04354178, -0.07311851,\n",
              "        -0.07239858,  0.019187  , -0.0763945 , -0.05140387, -0.02593034],\n",
              "       [-0.09632802, -0.04464164, -0.06979687, -0.06764174, -0.01945635,\n",
              "        -0.01070833,  0.01550536, -0.03949338, -0.04688253, -0.07977773],\n",
              "       [ 0.02717829,  0.05068012,  0.01750591, -0.03321323, -0.00707277,\n",
              "         0.04597154, -0.06549067,  0.07120998, -0.09643495, -0.05906719],\n",
              "       [ 0.01991321, -0.04464164, -0.04069594, -0.01599898, -0.00844872,\n",
              "        -0.0175976 ,  0.05232174, -0.03949338, -0.03074792,  0.00306441],\n",
              "       [-0.05273755,  0.05068012, -0.01806189,  0.08040085,  0.08924393,\n",
              "         0.10766179, -0.03971921,  0.1081111 ,  0.03606033, -0.04249877],\n",
              "       [-0.02730979, -0.04464164,  0.06492964, -0.00222757, -0.02496016,\n",
              "        -0.01728445,  0.02286863, -0.03949338, -0.0611758 , -0.0632093 ],\n",
              "       [-0.02367725, -0.04464164, -0.046085  , -0.03321323,  0.03282986,\n",
              "         0.03626394,  0.03759519, -0.00259226, -0.03324559,  0.01134862],\n",
              "       [ 0.03807591,  0.05068012,  0.06169621,  0.02187239, -0.0442235 ,\n",
              "        -0.03482076, -0.04340085, -0.00259226,  0.01990749, -0.01764613],\n",
              "       [-0.02730979, -0.04464164, -0.01806189, -0.04009893, -0.00294491,\n",
              "        -0.01133463,  0.03759519, -0.03949338, -0.0089434 , -0.05492509],\n",
              "       [-0.0382074 , -0.04464164, -0.0547075 , -0.07797029, -0.03321588,\n",
              "        -0.08649026,  0.14068104, -0.0763945 , -0.01919845, -0.0052198 ],\n",
              "       [-0.02367725, -0.04464164,  0.03043966, -0.00567042,  0.08236416,\n",
              "         0.09200436, -0.01762938,  0.07120998,  0.03304307,  0.00306441],\n",
              "       [-0.04183994, -0.04464164,  0.04121778, -0.02632753, -0.03183992,\n",
              "        -0.03043668, -0.03603757,  0.00294291,  0.03365381, -0.01764613],\n",
              "       [-0.06000263,  0.05068012,  0.05415152, -0.01944183, -0.04972731,\n",
              "        -0.04891244,  0.02286863, -0.03949338, -0.04398377, -0.0052198 ],\n",
              "       [ 0.01628068,  0.05068012, -0.04500719,  0.0631866 ,  0.01081462,\n",
              "        -0.00037443,  0.06336665, -0.03949338, -0.03074792,  0.03620126],\n",
              "       [-0.04183994, -0.04464164, -0.06548562, -0.04009893, -0.00569682,\n",
              "         0.01434355, -0.04340085,  0.03430886,  0.00702714, -0.01350402],\n",
              "       [ 0.07440129, -0.04464164,  0.01858372,  0.0631866 ,  0.06172487,\n",
              "         0.04284006,  0.00814208, -0.00259226,  0.05803805, -0.05906719],\n",
              "       [-0.05273755,  0.05068012, -0.01159501,  0.0563009 ,  0.05622106,\n",
              "         0.07290231, -0.03971921,  0.07120998,  0.03056363, -0.0052198 ],\n",
              "       [ 0.05260606,  0.05068012, -0.02452876,  0.0563009 , -0.00707277,\n",
              "        -0.00507166, -0.02131102, -0.00259226,  0.02671684, -0.03835666],\n",
              "       [-0.10722563, -0.04464164, -0.03422907, -0.06764174, -0.06348684,\n",
              "        -0.07051969,  0.00814208, -0.03949338, -0.00061174, -0.07977773],\n",
              "       [-0.06726771,  0.05068012, -0.01267283, -0.04009893, -0.01532849,\n",
              "         0.00463594, -0.0581274 ,  0.03430886,  0.01919647, -0.03421455],\n",
              "       [-0.07453279,  0.05068012, -0.01806189,  0.00810098, -0.01945635,\n",
              "        -0.02480001, -0.06549067,  0.03430886,  0.06731774, -0.01764613],\n",
              "       [-0.00188202,  0.05068012,  0.03043966,  0.05285804,  0.03970963,\n",
              "         0.05661859, -0.03971921,  0.07120998,  0.02539508,  0.02791705],\n",
              "       [ 0.05987114, -0.04464164, -0.02129532,  0.08728655,  0.04521344,\n",
              "         0.03156671, -0.04708248,  0.07120998,  0.07912244,  0.13561183],\n",
              "       [-0.06000263,  0.05068012, -0.0105172 , -0.01486283, -0.04972731,\n",
              "        -0.02354742, -0.0581274 ,  0.0158583 , -0.00991877, -0.03421455],\n",
              "       [ 0.06713621, -0.04464164, -0.06117437, -0.04009893, -0.02633611,\n",
              "        -0.02448686,  0.03391355, -0.03949338, -0.0561531 , -0.05906719],\n",
              "       [ 0.0090156 ,  0.05068012, -0.03961813,  0.02875809,  0.03833367,\n",
              "         0.0735286 , -0.07285395,  0.1081111 ,  0.01556846, -0.04664087],\n",
              "       [-0.02730979,  0.05068012,  0.06061839,  0.04941519,  0.08511607,\n",
              "         0.08636769, -0.00290283,  0.03430886,  0.03781053,  0.04862759],\n",
              "       [-0.04547248, -0.04464164,  0.03906215,  0.00121528,  0.01631843,\n",
              "         0.01528299, -0.02867429,  0.02655962,  0.04452873, -0.02593034],\n",
              "       [ 0.04534098,  0.05068012,  0.01966154,  0.03908664,  0.02044629,\n",
              "         0.02593004,  0.00814208, -0.00259226, -0.00330084,  0.01963284],\n",
              "       [ 0.01264814, -0.04464164, -0.02021751, -0.01599898,  0.01219057,\n",
              "         0.02123281, -0.07653559,  0.1081111 ,  0.0598794 , -0.02178823],\n",
              "       [-0.0854304 , -0.04464164, -0.00405033, -0.00911327, -0.00294491,\n",
              "         0.00776743,  0.02286863, -0.03949338, -0.0611758 , -0.01350402],\n",
              "       [-0.05637009, -0.04464164, -0.01159501, -0.03321323, -0.0469754 ,\n",
              "        -0.04765985,  0.00446045, -0.03949338, -0.00797714, -0.08806194],\n",
              "       [-0.04910502, -0.04464164, -0.06440781, -0.10207025, -0.00294491,\n",
              "        -0.01540556,  0.06336665, -0.04724262, -0.03324559, -0.05492509],\n",
              "       [-0.02730979, -0.04464164, -0.06009656, -0.02977038,  0.04658939,\n",
              "         0.01998022,  0.12227286, -0.03949338, -0.05140387, -0.00936191],\n",
              "       [ 0.00175052, -0.04464164, -0.06548562, -0.00567042, -0.00707277,\n",
              "        -0.01947649,  0.04127682, -0.03949338, -0.00330084,  0.00720652],\n",
              "       [ 0.01264814, -0.04464164, -0.02560657, -0.04009893, -0.03046397,\n",
              "        -0.04515466,  0.0780932 , -0.0763945 , -0.07213275,  0.01134862],\n",
              "       [-0.02730979, -0.04464164, -0.06332999, -0.05042748, -0.08962994,\n",
              "        -0.10433972,  0.05232174, -0.0763945 , -0.0561531 , -0.06735141],\n",
              "       [-0.02367725, -0.04464164, -0.06979687, -0.06419889, -0.05935898,\n",
              "        -0.05047819,  0.019187  , -0.03949338, -0.08913335, -0.05078298],\n",
              "       [-0.06363517, -0.04464164,  0.03582872, -0.02288468, -0.03046397,\n",
              "        -0.01885019, -0.00658447, -0.00259226, -0.02595311, -0.05492509]])"
            ]
          },
          "metadata": {},
          "execution_count": 11
        }
      ]
    },
    {
      "cell_type": "code",
      "source": [
        "#Create linear regression\n",
        "model = LinearRegression()\n"
      ],
      "metadata": {
        "id": "Z6zibw-XpPG7"
      },
      "execution_count": null,
      "outputs": []
    },
    {
      "cell_type": "code",
      "source": [
        "#train the model\n",
        "model.fit(X_train,Y_train)"
      ],
      "metadata": {
        "colab": {
          "base_uri": "https://localhost:8080/",
          "height": 75
        },
        "id": "VZXRovihqvsv",
        "outputId": "246d0265-a041-4a1d-bf6d-c7b666718600"
      },
      "execution_count": null,
      "outputs": [
        {
          "output_type": "execute_result",
          "data": {
            "text/plain": [
              "LinearRegression()"
            ],
            "text/html": [
              "<style>#sk-container-id-1 {color: black;background-color: white;}#sk-container-id-1 pre{padding: 0;}#sk-container-id-1 div.sk-toggleable {background-color: white;}#sk-container-id-1 label.sk-toggleable__label {cursor: pointer;display: block;width: 100%;margin-bottom: 0;padding: 0.3em;box-sizing: border-box;text-align: center;}#sk-container-id-1 label.sk-toggleable__label-arrow:before {content: \"▸\";float: left;margin-right: 0.25em;color: #696969;}#sk-container-id-1 label.sk-toggleable__label-arrow:hover:before {color: black;}#sk-container-id-1 div.sk-estimator:hover label.sk-toggleable__label-arrow:before {color: black;}#sk-container-id-1 div.sk-toggleable__content {max-height: 0;max-width: 0;overflow: hidden;text-align: left;background-color: #f0f8ff;}#sk-container-id-1 div.sk-toggleable__content pre {margin: 0.2em;color: black;border-radius: 0.25em;background-color: #f0f8ff;}#sk-container-id-1 input.sk-toggleable__control:checked~div.sk-toggleable__content {max-height: 200px;max-width: 100%;overflow: auto;}#sk-container-id-1 input.sk-toggleable__control:checked~label.sk-toggleable__label-arrow:before {content: \"▾\";}#sk-container-id-1 div.sk-estimator input.sk-toggleable__control:checked~label.sk-toggleable__label {background-color: #d4ebff;}#sk-container-id-1 div.sk-label input.sk-toggleable__control:checked~label.sk-toggleable__label {background-color: #d4ebff;}#sk-container-id-1 input.sk-hidden--visually {border: 0;clip: rect(1px 1px 1px 1px);clip: rect(1px, 1px, 1px, 1px);height: 1px;margin: -1px;overflow: hidden;padding: 0;position: absolute;width: 1px;}#sk-container-id-1 div.sk-estimator {font-family: monospace;background-color: #f0f8ff;border: 1px dotted black;border-radius: 0.25em;box-sizing: border-box;margin-bottom: 0.5em;}#sk-container-id-1 div.sk-estimator:hover {background-color: #d4ebff;}#sk-container-id-1 div.sk-parallel-item::after {content: \"\";width: 100%;border-bottom: 1px solid gray;flex-grow: 1;}#sk-container-id-1 div.sk-label:hover label.sk-toggleable__label {background-color: #d4ebff;}#sk-container-id-1 div.sk-serial::before {content: \"\";position: absolute;border-left: 1px solid gray;box-sizing: border-box;top: 0;bottom: 0;left: 50%;z-index: 0;}#sk-container-id-1 div.sk-serial {display: flex;flex-direction: column;align-items: center;background-color: white;padding-right: 0.2em;padding-left: 0.2em;position: relative;}#sk-container-id-1 div.sk-item {position: relative;z-index: 1;}#sk-container-id-1 div.sk-parallel {display: flex;align-items: stretch;justify-content: center;background-color: white;position: relative;}#sk-container-id-1 div.sk-item::before, #sk-container-id-1 div.sk-parallel-item::before {content: \"\";position: absolute;border-left: 1px solid gray;box-sizing: border-box;top: 0;bottom: 0;left: 50%;z-index: -1;}#sk-container-id-1 div.sk-parallel-item {display: flex;flex-direction: column;z-index: 1;position: relative;background-color: white;}#sk-container-id-1 div.sk-parallel-item:first-child::after {align-self: flex-end;width: 50%;}#sk-container-id-1 div.sk-parallel-item:last-child::after {align-self: flex-start;width: 50%;}#sk-container-id-1 div.sk-parallel-item:only-child::after {width: 0;}#sk-container-id-1 div.sk-dashed-wrapped {border: 1px dashed gray;margin: 0 0.4em 0.5em 0.4em;box-sizing: border-box;padding-bottom: 0.4em;background-color: white;}#sk-container-id-1 div.sk-label label {font-family: monospace;font-weight: bold;display: inline-block;line-height: 1.2em;}#sk-container-id-1 div.sk-label-container {text-align: center;}#sk-container-id-1 div.sk-container {/* jupyter's `normalize.less` sets `[hidden] { display: none; }` but bootstrap.min.css set `[hidden] { display: none !important; }` so we also need the `!important` here to be able to override the default hidden behavior on the sphinx rendered scikit-learn.org. See: https://github.com/scikit-learn/scikit-learn/issues/21755 */display: inline-block !important;position: relative;}#sk-container-id-1 div.sk-text-repr-fallback {display: none;}</style><div id=\"sk-container-id-1\" class=\"sk-top-container\"><div class=\"sk-text-repr-fallback\"><pre>LinearRegression()</pre><b>In a Jupyter environment, please rerun this cell to show the HTML representation or trust the notebook. <br />On GitHub, the HTML representation is unable to render, please try loading this page with nbviewer.org.</b></div><div class=\"sk-container\" hidden><div class=\"sk-item\"><div class=\"sk-estimator sk-toggleable\"><input class=\"sk-toggleable__control sk-hidden--visually\" id=\"sk-estimator-id-1\" type=\"checkbox\" checked><label for=\"sk-estimator-id-1\" class=\"sk-toggleable__label sk-toggleable__label-arrow\">LinearRegression</label><div class=\"sk-toggleable__content\"><pre>LinearRegression()</pre></div></div></div></div></div>"
            ]
          },
          "metadata": {},
          "execution_count": 14
        }
      ]
    },
    {
      "cell_type": "code",
      "source": [
        "#make prediction\n",
        "y_pred = model.predict(X_test)"
      ],
      "metadata": {
        "id": "4mV_isM_qzDX"
      },
      "execution_count": null,
      "outputs": []
    },
    {
      "cell_type": "code",
      "source": [
        "y_pred"
      ],
      "metadata": {
        "colab": {
          "base_uri": "https://localhost:8080/"
        },
        "id": "-Se3W5KGq4ZL",
        "outputId": "e2b8779a-9387-4676-a120-d6775875f990"
      },
      "execution_count": null,
      "outputs": [
        {
          "output_type": "execute_result",
          "data": {
            "text/plain": [
              "array([139.5475584 , 179.51720835, 134.03875572, 291.41702925,\n",
              "       123.78965872,  92.1723465 , 258.23238899, 181.33732057,\n",
              "        90.22411311, 108.63375858,  94.13865744, 168.43486358,\n",
              "        53.5047888 , 206.63081659, 100.12925869, 130.66657085,\n",
              "       219.53071499, 250.7803234 , 196.3688346 , 218.57511815,\n",
              "       207.35050182,  88.48340941,  70.43285917, 188.95914235,\n",
              "       154.8868162 , 159.36170122, 188.31263363, 180.39094033,\n",
              "        47.99046561, 108.97453871, 174.77897633,  86.36406656,\n",
              "       132.95761215, 184.53819483, 173.83220911, 190.35858492,\n",
              "       124.4156176 , 119.65110656, 147.95168682,  59.05405241,\n",
              "        71.62331856, 107.68284704, 165.45365458, 155.00975931,\n",
              "       171.04799096,  61.45761356,  71.66672581, 114.96732206,\n",
              "        51.57975523, 167.57599528, 152.52291955,  62.95568515,\n",
              "       103.49741722, 109.20751489, 175.64118426, 154.60296242,\n",
              "        94.41704366, 210.74209145, 120.2566205 ,  77.61585399,\n",
              "       187.93203995, 206.49337474, 140.63167076, 105.59678023,\n",
              "       130.70432536, 202.18534537, 171.13039501, 164.91423047,\n",
              "       124.72472569, 144.81030894, 181.99635452, 199.41369642,\n",
              "       234.21436188, 145.95665512,  79.86703276, 157.36941275,\n",
              "       192.74412541, 208.89814032, 158.58722555, 206.02195855,\n",
              "       107.47971675, 140.93598906,  54.82129332,  55.92573195,\n",
              "       115.01180018,  78.95584188,  81.56087285,  54.37997256,\n",
              "       166.2543518 ])"
            ]
          },
          "metadata": {},
          "execution_count": 16
        }
      ]
    },
    {
      "cell_type": "code",
      "source": [
        "#calculate mean squared error(MSE)\n",
        "mse = mean_squared_error(Y_test,y_pred)\n",
        "print(mse)"
      ],
      "metadata": {
        "colab": {
          "base_uri": "https://localhost:8080/"
        },
        "id": "gJVS0lGNq6Sz",
        "outputId": "352b47f1-13ab-423a-b83b-1c518f16a763"
      },
      "execution_count": null,
      "outputs": [
        {
          "output_type": "stream",
          "name": "stdout",
          "text": [
            "2900.193628493482\n"
          ]
        }
      ]
    },
    {
      "cell_type": "code",
      "source": [
        "# Plotting predicted vs actual\n",
        "\n",
        "plt.scatter(Y_test, y_pred)\n",
        "plt.plot([min(Y_test), max(Y_test)], [min(Y_test), max(Y_test)], 'r--')\n",
        "plt.xlabel(\"Acutal Progression\")\n",
        "plt.ylabel(\"Predicited Output\")\n",
        "plt.title(\"Acutal vs Predicted\")\n",
        "plt.show()"
      ],
      "metadata": {
        "colab": {
          "base_uri": "https://localhost:8080/",
          "height": 472
        },
        "id": "Vea14b0grff6",
        "outputId": "38bf2d42-a708-4534-ac25-9239c6049f9e"
      },
      "execution_count": null,
      "outputs": [
        {
          "output_type": "display_data",
          "data": {
            "text/plain": [
              "<Figure size 640x480 with 1 Axes>"
            ],
            "image/png": "[encoded data removed]"
          },
          "metadata": {}
        }
      ]
    },
    {
      "cell_type": "code",
      "source": [],
      "metadata": {
        "id": "MUZLnnQbr85s"
      },
      "execution_count": null,
      "outputs": []
    }
  ]
}