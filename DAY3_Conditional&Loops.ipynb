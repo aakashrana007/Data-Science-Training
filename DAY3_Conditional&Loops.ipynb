{
  "nbformat": 4,
  "nbformat_minor": 0,
  "metadata": {
    "colab": {
      "provenance": [],
      "authorship_tag": "ABX9TyNjKPCOsH3C3dW8fVW/bIof",
      "include_colab_link": true
    },
    "kernelspec": {
      "name": "python3",
      "display_name": "Python 3"
    },
    "language_info": {
      "name": "python"
    }
  },
  "cells": [
    {
      "cell_type": "markdown",
      "metadata": {
        "id": "view-in-github",
        "colab_type": "text"
      },
      "source": [
        "<a href=\"https://colab.research.google.com/github/aakashrana007/Data-Science-Training/blob/main/DAY3_Conditional%26Loops.ipynb\" target=\"_parent\"><img src=\"https://colab.research.google.com/assets/colab-badge.svg\" alt=\"Open In Colab\"/></a>"
      ]
    },
    {
      "cell_type": "markdown",
      "source": [
        "# **Conditional if....else...elif-**"
      ],
      "metadata": {
        "id": "APrszvuK9JHL"
      }
    },
    {
      "cell_type": "markdown",
      "source": [
        "Program to check odd even number:"
      ],
      "metadata": {
        "id": "sOBJNnB5_5Ca"
      }
    },
    {
      "cell_type": "code",
      "execution_count": null,
      "metadata": {
        "colab": {
          "base_uri": "https://localhost:8080/"
        },
        "id": "Idq1YCLv9Fe7",
        "outputId": "92b5c058-2520-49b2-e081-fb5775eaa55d"
      },
      "outputs": [
        {
          "output_type": "stream",
          "name": "stdout",
          "text": [
            "It is even\n"
          ]
        }
      ],
      "source": [
        "a=50\n",
        "if a%2==0:\n",
        "  print(\"It is even\")\n",
        "else:\n",
        "  print(\"It is odd\")"
      ]
    },
    {
      "cell_type": "markdown",
      "source": [
        "Program to check negative or positive number:"
      ],
      "metadata": {
        "id": "8sblqbxy_9UM"
      }
    },
    {
      "cell_type": "code",
      "source": [
        "x=float(input(\"Enter any number: \"))\n",
        "if (x>0):\n",
        "  print(\"Positive\")\n",
        "elif (x<0):\n",
        "  print(\"Negative\")\n",
        "else:\n",
        "  print(\"Zero\")"
      ],
      "metadata": {
        "colab": {
          "base_uri": "https://localhost:8080/"
        },
        "id": "QVjXqgX6-fIV",
        "outputId": "a2d4c4af-b74b-44d8-9749-fcfda5c52057"
      },
      "execution_count": null,
      "outputs": [
        {
          "output_type": "stream",
          "name": "stdout",
          "text": [
            "Enter any number: -4\n",
            "Negative\n"
          ]
        }
      ]
    },
    {
      "cell_type": "markdown",
      "source": [
        "# **Functions:**"
      ],
      "metadata": {
        "id": "9jt2V7wfAd73"
      }
    },
    {
      "cell_type": "markdown",
      "source": [
        "There are two types of functions-\n",
        "1. Regular- usesful for multiple statements and long codes;for large data\n",
        "2. Lamda- for one expression of statement; for small data"
      ],
      "metadata": {
        "id": "l9WCqUdEAhk9"
      }
    },
    {
      "cell_type": "code",
      "source": [],
      "metadata": {
        "id": "X3jddyNQDdgB"
      },
      "execution_count": null,
      "outputs": []
    },
    {
      "cell_type": "code",
      "source": [
        "def countchar(word,char):\n",
        "  count=0\n",
        "  for i in word:\n",
        "    if i==char:\n",
        "      count=count+1\n",
        "  print(count)\n",
        "word=input(\"Enter any word: \")\n",
        "char=input(\"Enter the character you want to count: \")\n",
        "countchar(word,char)"
      ],
      "metadata": {
        "colab": {
          "base_uri": "https://localhost:8080/"
        },
        "id": "E5FMRsuXAgxp",
        "outputId": "27ed9ef0-4c70-4bfa-a008-7072874358cd"
      },
      "execution_count": null,
      "outputs": [
        {
          "output_type": "stream",
          "name": "stdout",
          "text": [
            "Enter any word: animal\n",
            "Enter the character you want to count: a\n",
            "2\n"
          ]
        }
      ]
    },
    {
      "cell_type": "markdown",
      "source": [
        "Discuss grading condition problem:\n",
        "\n",
        "A+ => 90-100\n",
        "\n",
        "A => 80-90\n",
        "\n",
        "B => 60-80\n",
        "\n",
        "C => 40-60\n",
        "\n",
        "D => <40"
      ],
      "metadata": {
        "id": "C6eINb3LDpCg"
      }
    },
    {
      "cell_type": "code",
      "source": [
        "marks=int(input(\"Enter your marks: \"))\n",
        "if 90<=marks<=100:\n",
        "   print(\"Your grade is A+\")\n",
        "if marks in range(80,90):\n",
        "   print(\"Your grade is A\")\n",
        "if (60<=marks and marks<=80):\n",
        "   print(\"Your grade is B\")\n",
        "if 40<=marks<=60:\n",
        "   print(\"Your grade is C\")\n",
        "if marks<=40:\n",
        "   print(\"Your grade is D\")\n"
      ],
      "metadata": {
        "colab": {
          "base_uri": "https://localhost:8080/"
        },
        "id": "4Q_5PkQpD_Z4",
        "outputId": "0fe5cc31-cda4-4418-8d5d-3eca3b97d51a"
      },
      "execution_count": null,
      "outputs": [
        {
          "output_type": "stream",
          "name": "stdout",
          "text": [
            "Enter your marks: 85\n",
            "Your grade is A\n"
          ]
        }
      ]
    },
    {
      "cell_type": "markdown",
      "source": [
        "# **For Loops:**"
      ],
      "metadata": {
        "id": "zePkEAxHGGPT"
      }
    },
    {
      "cell_type": "code",
      "source": [
        "for i in range(1,11):\n",
        "  print(i)"
      ],
      "metadata": {
        "colab": {
          "base_uri": "https://localhost:8080/"
        },
        "id": "S0NLCDNEGNFJ",
        "outputId": "31651b09-6471-4d95-ec5c-43a62545e1ee"
      },
      "execution_count": null,
      "outputs": [
        {
          "output_type": "stream",
          "name": "stdout",
          "text": [
            "1\n",
            "2\n",
            "3\n",
            "4\n",
            "5\n",
            "6\n",
            "7\n",
            "8\n",
            "9\n",
            "10\n"
          ]
        }
      ]
    },
    {
      "cell_type": "markdown",
      "source": [
        "Print odd and even numbers between  two numbers:\n"
      ],
      "metadata": {
        "id": "a-loKU7rGycO"
      }
    },
    {
      "cell_type": "code",
      "source": [
        "a=int(input(\"Enter initial number: \"))\n",
        "b=int(input(\"Enter end number: \"))\n",
        "for i in range(a,b,2):\n",
        "  print(f\"even number: {i}\")\n",
        "for j in range(a,b,2):\n",
        "  print(f\"odd number: {j}\")"
      ],
      "metadata": {
        "colab": {
          "base_uri": "https://localhost:8080/"
        },
        "id": "E50WAanwG3N8",
        "outputId": "8db9609b-f9d3-46a1-a24c-dae025aafede"
      },
      "execution_count": 1,
      "outputs": [
        {
          "output_type": "stream",
          "name": "stdout",
          "text": [
            "Enter initial number: 1\n",
            "Enter end number: 10\n",
            "even number: 1\n",
            "even number: 3\n",
            "even number: 5\n",
            "even number: 7\n",
            "even number: 9\n",
            "odd number: 1\n",
            "odd number: 3\n",
            "odd number: 5\n",
            "odd number: 7\n",
            "odd number: 9\n"
          ]
        }
      ]
    },
    {
      "cell_type": "markdown",
      "source": [
        "Find sum of numbers from one to hundred:\n"
      ],
      "metadata": {
        "id": "QqNzQERfHTtB"
      }
    },
    {
      "cell_type": "code",
      "source": [
        "sum=0\n",
        "for i in range(1,101):\n",
        "  sum=sum+i\n",
        "print(sum)"
      ],
      "metadata": {
        "colab": {
          "base_uri": "https://localhost:8080/"
        },
        "id": "3_1mAC_gHXHq",
        "outputId": "cf02e4d0-79c3-4442-e032-5e385488a433"
      },
      "execution_count": null,
      "outputs": [
        {
          "output_type": "stream",
          "name": "stdout",
          "text": [
            "5050\n"
          ]
        }
      ]
    },
    {
      "cell_type": "markdown",
      "source": [
        "For loop vs While loop-\n",
        "\n",
        "while loop- pass multiple conditions to find answer or you dont know when to stop.\n",
        "\n",
        "for loop- you have a condition or a defined end for the loop."
      ],
      "metadata": {
        "id": "dZCxsGp-Ip9G"
      }
    },
    {
      "cell_type": "code",
      "source": [
        "i=1\n",
        "while(i<11):\n",
        "  print(i)\n",
        "  i=i+1"
      ],
      "metadata": {
        "colab": {
          "base_uri": "https://localhost:8080/"
        },
        "id": "q_hframGJ8EL",
        "outputId": "dd2f1951-3ba1-4f58-8545-5a71fdf28dd7"
      },
      "execution_count": null,
      "outputs": [
        {
          "output_type": "stream",
          "name": "stdout",
          "text": [
            "1\n",
            "2\n",
            "3\n",
            "4\n",
            "5\n",
            "6\n",
            "7\n",
            "8\n",
            "9\n",
            "10\n"
          ]
        }
      ]
    },
    {
      "cell_type": "markdown",
      "source": [
        "Using While loop, print sum of even numbers from 1 to 100\n"
      ],
      "metadata": {
        "id": "uTJqEmKbK-tk"
      }
    },
    {
      "cell_type": "code",
      "source": [
        "i=2\n",
        "s=0\n",
        "while(i<=100):\n",
        "  s=s+i\n",
        "  i=i+2\n",
        "print(s)"
      ],
      "metadata": {
        "colab": {
          "base_uri": "https://localhost:8080/"
        },
        "id": "DAymDT4mLEQa",
        "outputId": "dd1bd46f-9db4-402a-acd7-7cc977647f7d"
      },
      "execution_count": null,
      "outputs": [
        {
          "output_type": "stream",
          "name": "stdout",
          "text": [
            "2550\n"
          ]
        }
      ]
    },
    {
      "cell_type": "markdown",
      "source": [
        "Print the multiples of 7 using for and while loop:"
      ],
      "metadata": {
        "id": "SjOwqMhSLoPp"
      }
    },
    {
      "cell_type": "code",
      "source": [
        "#using for loop\n",
        "for i in range(0,71,7):\n",
        "  print(i)\n",
        "\n",
        "#using while loop\n",
        "a, b = (int(x) for x in input(\"Enter the range of numbers: \").split())\n",
        "print(f\"a: {a}, b: {b}\")\n",
        "i=a\n",
        "while(i<=b):\n",
        "  if i % 7 == 0:\n",
        "    print(i)\n",
        "  i+=1\n"
      ],
      "metadata": {
        "colab": {
          "base_uri": "https://localhost:8080/"
        },
        "id": "Qfgk_rC2UZRf",
        "outputId": "92d3c124-b1d0-4960-9400-94382be889f2"
      },
      "execution_count": 12,
      "outputs": [
        {
          "output_type": "stream",
          "name": "stdout",
          "text": [
            "0\n",
            "7\n",
            "14\n",
            "21\n",
            "28\n",
            "35\n",
            "42\n",
            "49\n",
            "56\n",
            "63\n",
            "70\n",
            "Enter the range of numbers: 1 70\n",
            "a: 1, b: 70\n",
            "7\n",
            "14\n",
            "21\n",
            "28\n",
            "35\n",
            "42\n",
            "49\n",
            "56\n",
            "63\n",
            "70\n"
          ]
        }
      ]
    }
  ]
}