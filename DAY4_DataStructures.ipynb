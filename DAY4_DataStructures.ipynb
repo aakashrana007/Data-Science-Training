{
  "nbformat": 4,
  "nbformat_minor": 0,
  "metadata": {
    "colab": {
      "provenance": [],
      "authorship_tag": "ABX9TyMauBnL7UEDfJuk6OxzjWSl",
      "include_colab_link": true
    },
    "kernelspec": {
      "name": "python3",
      "display_name": "Python 3"
    },
    "language_info": {
      "name": "python"
    }
  },
  "cells": [
    {
      "cell_type": "markdown",
      "metadata": {
        "id": "view-in-github",
        "colab_type": "text"
      },
      "source": [
        "<a href=\"https://colab.research.google.com/github/aakashrana007/Data-Science-Training/blob/main/DAY4_DataStructures.ipynb\" target=\"_parent\"><img src=\"https://colab.research.google.com/assets/colab-badge.svg\" alt=\"Open In Colab\"/></a>"
      ]
    },
    {
      "cell_type": "markdown",
      "source": [
        "# **Python Data Structure:**"
      ],
      "metadata": {
        "id": "A5i2cB70b01g"
      }
    },
    {
      "cell_type": "markdown",
      "source": [
        "1. List\n",
        "2. Tuple\n",
        "3. Sets\n",
        "4. Dictionary\n",
        "\n"
      ],
      "metadata": {
        "id": "dpedAObnb6RC"
      }
    },
    {
      "cell_type": "markdown",
      "source": [
        "**LIST=[ ]**"
      ],
      "metadata": {
        "id": "ika9s7w2dGEH"
      }
    },
    {
      "cell_type": "code",
      "source": [
        "a=['Aakash',7,'Thali',\"Mercedez\"]\n",
        "print(type(a))              #check the data structure\n",
        "a.append(\"Hello\")           #doesnt care about indexing; adds it at the last\n",
        "a.append(['dog','bird'])    #append a list in the list\n",
        "a.insert(2,\"Data Science\")  #to add values at a certain index\n",
        "print(a[3])                 #prints value of given index\n",
        "a[3:]                       #slicing; prints values after index 3"
      ],
      "metadata": {
        "colab": {
          "base_uri": "https://localhost:8080/"
        },
        "id": "iLRCMQpAb5OM",
        "outputId": "380cfba4-98d3-475a-c5c1-2275b5b8cce8"
      },
      "execution_count": null,
      "outputs": [
        {
          "output_type": "stream",
          "name": "stdout",
          "text": [
            "<class 'list'>\n",
            "Mercedez\n"
          ]
        },
        {
          "output_type": "execute_result",
          "data": {
            "text/plain": [
              "['Mercedez', 'Data Science', 'Hello', ['dog', 'bird']]"
            ]
          },
          "metadata": {},
          "execution_count": 24
        }
      ]
    },
    {
      "cell_type": "markdown",
      "source": [
        "Nested List:"
      ],
      "metadata": {
        "id": "QuIDBgTsev9H"
      }
    },
    {
      "cell_type": "code",
      "source": [
        "b=[1,2,[3,4]]\n",
        "print(b[2])\n",
        "c=[1,3,[4,\"apple\",['cat','bat']]]\n",
        "print(c[2][2][1])"
      ],
      "metadata": {
        "colab": {
          "base_uri": "https://localhost:8080/"
        },
        "id": "OBUDAOB9eJEX",
        "outputId": "65cfaba1-2bd4-4f92-8268-e96fe285ce2e"
      },
      "execution_count": null,
      "outputs": [
        {
          "output_type": "stream",
          "name": "stdout",
          "text": [
            "[3, 4]\n",
            "bat\n"
          ]
        }
      ]
    },
    {
      "cell_type": "markdown",
      "source": [
        "**Classwork:**\n",
        "\n",
        "*   Create an old_list ranging from values 1 to 10\n",
        "*   Creaate a blank new_list=[]\n",
        "*   Loop through the old_list and append only the even number to the new_list\n",
        "*   Print the new_list\n",
        "\n",
        "\n",
        "\n"
      ],
      "metadata": {
        "id": "ho0F935ye2sU"
      }
    },
    {
      "cell_type": "code",
      "source": [
        "old_list=[1,2,3,4,5,6,7,8,9,10]\n",
        "new_list=[]\n",
        "for i in old_list:\n",
        "  if i%2==0:\n",
        "    new_list.append(i)\n",
        "print(new_list)"
      ],
      "metadata": {
        "colab": {
          "base_uri": "https://localhost:8080/"
        },
        "id": "FUDJKcaNhwZP",
        "outputId": "11ecfcd5-192e-48ae-aa94-c101de7a6e55"
      },
      "execution_count": null,
      "outputs": [
        {
          "output_type": "stream",
          "name": "stdout",
          "text": [
            "[2, 4, 6, 8, 10]\n"
          ]
        }
      ]
    },
    {
      "cell_type": "markdown",
      "source": [
        "To delete items form list:\n",
        "1. pop   #using index; it pop a item at that index\n",
        "2. del   #using index\n",
        "3. remove #using the item iteself, it remove it"
      ],
      "metadata": {
        "id": "pMPT-f41i_6w"
      }
    },
    {
      "cell_type": "code",
      "source": [
        "alist=['a','b','c','d','e']\n",
        "alist.pop(2)\n",
        "alist.remove('d')\n",
        "del alist[0]\n",
        "print(alist)\n"
      ],
      "metadata": {
        "colab": {
          "base_uri": "https://localhost:8080/"
        },
        "id": "XoWdTgN7jUUO",
        "outputId": "02099323-dfef-4974-bd2a-fd311ed8fef0"
      },
      "execution_count": null,
      "outputs": [
        {
          "output_type": "stream",
          "name": "stdout",
          "text": [
            "['b', 'e']\n"
          ]
        }
      ]
    },
    {
      "cell_type": "markdown",
      "source": [
        "**DICTIONARY={ }**\n",
        "\n",
        "//key-value pair"
      ],
      "metadata": {
        "id": "jdMQeAMklCvG"
      }
    },
    {
      "cell_type": "code",
      "source": [
        "info={\n",
        "    'name': 'Aakash',\n",
        "    'address': 'Thali',\n",
        "    'age': 16,\n",
        "    'interests': ['programming','football','politics and society']\n",
        "}\n",
        "print(type(info))\n",
        "print(info['name'])\n",
        "print(info.get('address'))\n",
        "print(info['interests'][2])    #prints item at index 2 from a list within a dict\n",
        "info['car']='Mercedes-Benz'    #appends a new key-value pair\n",
        "del info['age']                #deletes a key-value pair\n",
        "print(info)\n"
      ],
      "metadata": {
        "colab": {
          "base_uri": "https://localhost:8080/"
        },
        "id": "X5G8yIVHlKKw",
        "outputId": "70b5ec51-d494-4d6c-bc35-a89b2ca672b2"
      },
      "execution_count": null,
      "outputs": [
        {
          "output_type": "stream",
          "name": "stdout",
          "text": [
            "<class 'dict'>\n",
            "Aakash\n",
            "Thali\n",
            "politics and society\n",
            "{'name': 'Aakash', 'address': 'Thali', 'interests': ['programming', 'football', 'politics and society'], 'car': 'Mercedes-Benz'}\n"
          ]
        }
      ]
    },
    {
      "cell_type": "markdown",
      "source": [
        "\\"
      ],
      "metadata": {
        "id": "JdXScn_7d2k3"
      }
    },
    {
      "cell_type": "markdown",
      "source": [
        "Dictionary Questions:\n",
        "\n",
        "1. Create a dictionary representing a person's information (name, age, city, and email), and then print the dictionary.\n",
        "2. Create two dictionaries representing the scores of two students in a class (use the keys \"math\" and \"science\" for subjects), and then merge these dictionaries into a single dictionary."
      ],
      "metadata": {
        "id": "NdgTbMEQkR2k"
      }
    },
    {
      "cell_type": "code",
      "source": [
        "id={\n",
        "    'name':'Aayush',\n",
        "    'age':'20',\n",
        "    'city':'Lalitpur',\n",
        "    'email':'aayushmaharjan94@.....',\n",
        "}\n",
        "print(id)\n",
        "\n",
        "ram={\n",
        "      'math':80,\n",
        "      'science':85\n",
        "}\n",
        "hari={\n",
        "    'math':76,\n",
        "    'science':80\n",
        "}\n",
        "blist=[ram,hari]\n",
        "print(blist)"
      ],
      "metadata": {
        "colab": {
          "base_uri": "https://localhost:8080/"
        },
        "id": "uIa3YJkPk8rT",
        "outputId": "dd4f656c-3fd5-41c9-d1ba-906fa69032c4"
      },
      "execution_count": 1,
      "outputs": [
        {
          "output_type": "stream",
          "name": "stdout",
          "text": [
            "{'name': 'Aayush', 'age': '20', 'city': 'Lalitpur', 'email': 'aayushmaharjan94@.....'}\n",
            "[{'math': 80, 'science': 85}, {'math': 76, 'science': 80}]\n"
          ]
        }
      ]
    },
    {
      "cell_type": "code",
      "source": [
        "dir(hari)   #Directory; to check what can you do in the dictionary"
      ],
      "metadata": {
        "colab": {
          "base_uri": "https://localhost:8080/"
        },
        "id": "io-u5Nf0mgd4",
        "outputId": "a382d727-a01d-45bd-c5af-cd617b040519"
      },
      "execution_count": 4,
      "outputs": [
        {
          "output_type": "execute_result",
          "data": {
            "text/plain": [
              "['__class__',\n",
              " '__class_getitem__',\n",
              " '__contains__',\n",
              " '__delattr__',\n",
              " '__delitem__',\n",
              " '__dir__',\n",
              " '__doc__',\n",
              " '__eq__',\n",
              " '__format__',\n",
              " '__ge__',\n",
              " '__getattribute__',\n",
              " '__getitem__',\n",
              " '__gt__',\n",
              " '__hash__',\n",
              " '__init__',\n",
              " '__init_subclass__',\n",
              " '__ior__',\n",
              " '__iter__',\n",
              " '__le__',\n",
              " '__len__',\n",
              " '__lt__',\n",
              " '__ne__',\n",
              " '__new__',\n",
              " '__or__',\n",
              " '__reduce__',\n",
              " '__reduce_ex__',\n",
              " '__repr__',\n",
              " '__reversed__',\n",
              " '__ror__',\n",
              " '__setattr__',\n",
              " '__setitem__',\n",
              " '__sizeof__',\n",
              " '__str__',\n",
              " '__subclasshook__',\n",
              " 'clear',\n",
              " 'copy',\n",
              " 'fromkeys',\n",
              " 'get',\n",
              " 'items',\n",
              " 'keys',\n",
              " 'pop',\n",
              " 'popitem',\n",
              " 'setdefault',\n",
              " 'update',\n",
              " 'values']"
            ]
          },
          "metadata": {},
          "execution_count": 4
        }
      ]
    },
    {
      "cell_type": "markdown",
      "source": [
        "List Questions:\n",
        "\n",
        "1. Create a list of your favorite fruits, then add a new fruit to the list and print the updated list.\n",
        "2. Create two lists, one containing the names of students and the other containing their corresponding marks. Merge these lists into a dictionary where the student names are the keys and the marks are the values.\n",
        "\n",
        "\n",
        "*zip= to merge*\n",
        "\n",
        "*unzip= to dismantle*"
      ],
      "metadata": {
        "id": "VzRv6Wgtl3gM"
      }
    },
    {
      "cell_type": "code",
      "source": [
        "fruits=['mango','grapes','orange']\n",
        "add=input(\"Add a fruit: \")\n",
        "fruits.append(add)\n",
        "print(fruits)\n",
        "\n",
        "marks=[60,70,80,90]\n",
        "students=['Thomas','John','Michael','Arthur']\n",
        "merged_dict=dict(zip(students,marks))\n",
        "print(merged_dict)"
      ],
      "metadata": {
        "colab": {
          "base_uri": "https://localhost:8080/"
        },
        "id": "cgccAafbl4c-",
        "outputId": "e7da2597-7225-444c-ee1c-72c192b77413"
      },
      "execution_count": 15,
      "outputs": [
        {
          "output_type": "stream",
          "name": "stdout",
          "text": [
            "Add a fruit: banana\n",
            "['mango', 'grapes', 'orange', 'banana']\n",
            "{'Thomas': 60, 'John': 70, 'Michael': 80, 'Arthur': 90}\n"
          ]
        }
      ]
    },
    {
      "cell_type": "markdown",
      "source": [
        "**TUPLE= ( )**\n",
        "\n",
        "ordered and unchangeable\n",
        "\n",
        "immutable\n",
        "\n"
      ],
      "metadata": {
        "id": "KJTXiFTbqcrX"
      }
    },
    {
      "cell_type": "code",
      "source": [
        "tup=(1,2,'apple','cat')\n",
        "dir(tup)"
      ],
      "metadata": {
        "colab": {
          "base_uri": "https://localhost:8080/"
        },
        "id": "fbbptIofrlnv",
        "outputId": "7a32c94c-8290-437b-8009-c7864e8c7353"
      },
      "execution_count": 22,
      "outputs": [
        {
          "output_type": "execute_result",
          "data": {
            "text/plain": [
              "['__add__',\n",
              " '__class__',\n",
              " '__class_getitem__',\n",
              " '__contains__',\n",
              " '__delattr__',\n",
              " '__dir__',\n",
              " '__doc__',\n",
              " '__eq__',\n",
              " '__format__',\n",
              " '__ge__',\n",
              " '__getattribute__',\n",
              " '__getitem__',\n",
              " '__getnewargs__',\n",
              " '__gt__',\n",
              " '__hash__',\n",
              " '__init__',\n",
              " '__init_subclass__',\n",
              " '__iter__',\n",
              " '__le__',\n",
              " '__len__',\n",
              " '__lt__',\n",
              " '__mul__',\n",
              " '__ne__',\n",
              " '__new__',\n",
              " '__reduce__',\n",
              " '__reduce_ex__',\n",
              " '__repr__',\n",
              " '__rmul__',\n",
              " '__setattr__',\n",
              " '__sizeof__',\n",
              " '__str__',\n",
              " '__subclasshook__',\n",
              " 'count',\n",
              " 'index']"
            ]
          },
          "metadata": {},
          "execution_count": 22
        }
      ]
    },
    {
      "cell_type": "code",
      "source": [
        "print(tup.count(2))      #counts how many times the item is repeated\n",
        "print(tup.index('cat'))  #prints the index of given item\n",
        "print(len(tup))          #length of the tuple or num of items"
      ],
      "metadata": {
        "colab": {
          "base_uri": "https://localhost:8080/"
        },
        "id": "4FWhYn0hq3lO",
        "outputId": "85ee73bc-c4f1-4111-875c-3fc3427c966d"
      },
      "execution_count": 25,
      "outputs": [
        {
          "output_type": "stream",
          "name": "stdout",
          "text": [
            "1\n",
            "3\n",
            "4\n"
          ]
        }
      ]
    },
    {
      "cell_type": "markdown",
      "source": [
        "**SET= { }**\n",
        "\n",
        "unchangeable and unordered\n",
        "\n",
        "unindexed\n",
        "\n",
        "But can add and remove items"
      ],
      "metadata": {
        "id": "77DaHsbFsJ0W"
      }
    },
    {
      "cell_type": "code",
      "source": [
        "setA={1,2,2,3,4}\n",
        "setB={5,5,6,7}\n",
        "dir(setB)"
      ],
      "metadata": {
        "colab": {
          "base_uri": "https://localhost:8080/"
        },
        "id": "6cCN1sZTsKxT",
        "outputId": "a8d9dff4-3a6b-4446-f848-b82a90e51f42"
      },
      "execution_count": 40,
      "outputs": [
        {
          "output_type": "execute_result",
          "data": {
            "text/plain": [
              "['__and__',\n",
              " '__class__',\n",
              " '__class_getitem__',\n",
              " '__contains__',\n",
              " '__delattr__',\n",
              " '__dir__',\n",
              " '__doc__',\n",
              " '__eq__',\n",
              " '__format__',\n",
              " '__ge__',\n",
              " '__getattribute__',\n",
              " '__gt__',\n",
              " '__hash__',\n",
              " '__iand__',\n",
              " '__init__',\n",
              " '__init_subclass__',\n",
              " '__ior__',\n",
              " '__isub__',\n",
              " '__iter__',\n",
              " '__ixor__',\n",
              " '__le__',\n",
              " '__len__',\n",
              " '__lt__',\n",
              " '__ne__',\n",
              " '__new__',\n",
              " '__or__',\n",
              " '__rand__',\n",
              " '__reduce__',\n",
              " '__reduce_ex__',\n",
              " '__repr__',\n",
              " '__ror__',\n",
              " '__rsub__',\n",
              " '__rxor__',\n",
              " '__setattr__',\n",
              " '__sizeof__',\n",
              " '__str__',\n",
              " '__sub__',\n",
              " '__subclasshook__',\n",
              " '__xor__',\n",
              " 'add',\n",
              " 'clear',\n",
              " 'copy',\n",
              " 'difference',\n",
              " 'difference_update',\n",
              " 'discard',\n",
              " 'intersection',\n",
              " 'intersection_update',\n",
              " 'isdisjoint',\n",
              " 'issubset',\n",
              " 'issuperset',\n",
              " 'pop',\n",
              " 'remove',\n",
              " 'symmetric_difference',\n",
              " 'symmetric_difference_update',\n",
              " 'union',\n",
              " 'update']"
            ]
          },
          "metadata": {},
          "execution_count": 40
        }
      ]
    },
    {
      "cell_type": "code",
      "source": [
        "setA.add(5)\n",
        "print(setA)   #discard the reapeatition while printing\n",
        "setB.remove(5)\n",
        "setA.discard(4)\n",
        "setA.union(setB)"
      ],
      "metadata": {
        "colab": {
          "base_uri": "https://localhost:8080/"
        },
        "id": "iIaRb29LsdAM",
        "outputId": "ab524138-cf02-4afd-f1ba-432bb98eb766"
      },
      "execution_count": 41,
      "outputs": [
        {
          "output_type": "stream",
          "name": "stdout",
          "text": [
            "{1, 2, 3, 4, 5}\n"
          ]
        },
        {
          "output_type": "execute_result",
          "data": {
            "text/plain": [
              "{1, 2, 3, 5, 6, 7}"
            ]
          },
          "metadata": {},
          "execution_count": 41
        }
      ]
    }
  ]
}