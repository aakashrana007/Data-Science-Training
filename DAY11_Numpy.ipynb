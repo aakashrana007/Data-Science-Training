{
  "nbformat": 4,
  "nbformat_minor": 0,
  "metadata": {
    "colab": {
      "provenance": [],
      "authorship_tag": "ABX9TyOigFHfZngUHyw08kfT9hls",
      "include_colab_link": true
    },
    "kernelspec": {
      "name": "python3",
      "display_name": "Python 3"
    },
    "language_info": {
      "name": "python"
    }
  },
  "cells": [
    {
      "cell_type": "markdown",
      "metadata": {
        "id": "view-in-github",
        "colab_type": "text"
      },
      "source": [
        "<a href=\"https://colab.research.google.com/github/aakashrana007/Data-Science-Training/blob/main/DAY11_Numpy.ipynb\" target=\"_parent\"><img src=\"https://colab.research.google.com/assets/colab-badge.svg\" alt=\"Open In Colab\"/></a>"
      ]
    },
    {
      "cell_type": "code",
      "execution_count": 1,
      "metadata": {
        "id": "k4CkaP51ueQI"
      },
      "outputs": [],
      "source": [
        "import numpy as np"
      ]
    },
    {
      "cell_type": "code",
      "source": [
        "a=np.array([5,6,7,8])\n",
        "a=[5,6,7,8]"
      ],
      "metadata": {
        "id": "T0yVtrOOvzYs"
      },
      "execution_count": null,
      "outputs": []
    },
    {
      "cell_type": "markdown",
      "source": [
        ">EXERCISE:\n",
        "\n",
        "*Double each elements i.e  [10,12,14,16]"
      ],
      "metadata": {
        "id": "pyNQJhje2ysA"
      }
    },
    {
      "cell_type": "markdown",
      "source": [
        "> 1. Using normal python approach:"
      ],
      "metadata": {
        "id": "2AMfsa2b3OBn"
      }
    },
    {
      "cell_type": "markdown",
      "source": [
        "**Lamda Function-** for a line of code/function."
      ],
      "metadata": {
        "id": "uuslxAZy2c-b"
      }
    },
    {
      "cell_type": "code",
      "source": [
        "li=[5,6,7,8]\n",
        "list(map(lambda x:x*2,li))"
      ],
      "metadata": {
        "colab": {
          "base_uri": "https://localhost:8080/"
        },
        "id": "aN3M6mIN2oMP",
        "outputId": "5c45025b-c107-4244-d216-47c9a3c80e17"
      },
      "execution_count": null,
      "outputs": [
        {
          "output_type": "execute_result",
          "data": {
            "text/plain": [
              "[10, 12, 14, 16]"
            ]
          },
          "metadata": {},
          "execution_count": 4
        }
      ]
    },
    {
      "cell_type": "markdown",
      "source": [
        "> 2. Using Numpy"
      ],
      "metadata": {
        "id": "JBejq5fL3g5t"
      }
    },
    {
      "cell_type": "code",
      "source": [
        "a=np.array(li)\n",
        "a*2"
      ],
      "metadata": {
        "colab": {
          "base_uri": "https://localhost:8080/"
        },
        "id": "rfl_Vxt_3j8U",
        "outputId": "34dcc7c1-825c-46ab-d683-238cc634232f"
      },
      "execution_count": null,
      "outputs": [
        {
          "output_type": "execute_result",
          "data": {
            "text/plain": [
              "array([10, 12, 14, 16])"
            ]
          },
          "metadata": {},
          "execution_count": 5
        }
      ]
    },
    {
      "cell_type": "markdown",
      "source": [
        "**Trigonometry**"
      ],
      "metadata": {
        "id": "GXGsRLb238vN"
      }
    },
    {
      "cell_type": "code",
      "source": [
        "s=np.array([5,6,7,1.5708])\n",
        "np.sin(s)"
      ],
      "metadata": {
        "colab": {
          "base_uri": "https://localhost:8080/"
        },
        "id": "CQy9wnUO3_iq",
        "outputId": "651b2b04-e33d-4832-b781-da3d4e486b70"
      },
      "execution_count": null,
      "outputs": [
        {
          "output_type": "execute_result",
          "data": {
            "text/plain": [
              "array([-0.95892427, -0.2794155 ,  0.6569866 ,  1.        ])"
            ]
          },
          "metadata": {},
          "execution_count": 6
        }
      ]
    },
    {
      "cell_type": "code",
      "source": [
        "np.cos(s)"
      ],
      "metadata": {
        "colab": {
          "base_uri": "https://localhost:8080/"
        },
        "id": "IX0Gvqrn4JpZ",
        "outputId": "b629fed3-8294-4572-8070-19fdf8b3e027"
      },
      "execution_count": null,
      "outputs": [
        {
          "output_type": "execute_result",
          "data": {
            "text/plain": [
              "array([ 2.83662185e-01,  9.60170287e-01,  7.53902254e-01, -3.67320510e-06])"
            ]
          },
          "metadata": {},
          "execution_count": 9
        }
      ]
    },
    {
      "cell_type": "code",
      "source": [
        "np.tan(s)"
      ],
      "metadata": {
        "colab": {
          "base_uri": "https://localhost:8080/"
        },
        "id": "f0WmJS-Z4L1F",
        "outputId": "be371179-2dbe-4fd4-955f-f90d91aefe61"
      },
      "execution_count": null,
      "outputs": [
        {
          "output_type": "execute_result",
          "data": {
            "text/plain": [
              "array([-3.38051501e+00, -2.91006191e-01,  8.71447983e-01, -2.72241808e+05])"
            ]
          },
          "metadata": {},
          "execution_count": 8
        }
      ]
    },
    {
      "cell_type": "markdown",
      "source": [
        "**Linear Algebra**\n",
        "\n",
        "Create two np arrays with random numbers with dimension 2,3 and 3,2."
      ],
      "metadata": {
        "id": "frLSr13I4XvE"
      }
    },
    {
      "cell_type": "code",
      "source": [
        "a=np.random.randn(2,3)\n",
        "b=np.random.randn(3,2)\n",
        "a\n"
      ],
      "metadata": {
        "colab": {
          "base_uri": "https://localhost:8080/"
        },
        "id": "P1sKJ7QW4ST_",
        "outputId": "9093c041-524f-4b8a-eac7-9232fbb0c1fe"
      },
      "execution_count": null,
      "outputs": [
        {
          "output_type": "execute_result",
          "data": {
            "text/plain": [
              "array([[ 0.44784939, -1.33297376, -0.96615936],\n",
              "       [-0.7451883 ,  0.61880302, -3.01503061]])"
            ]
          },
          "metadata": {},
          "execution_count": 11
        }
      ]
    },
    {
      "cell_type": "code",
      "source": [
        "b"
      ],
      "metadata": {
        "colab": {
          "base_uri": "https://localhost:8080/"
        },
        "id": "PHkLllgS4uME",
        "outputId": "dc6bf798-0a25-40e9-dc4c-4ba3225e2bc4"
      },
      "execution_count": null,
      "outputs": [
        {
          "output_type": "execute_result",
          "data": {
            "text/plain": [
              "array([[-0.52704447, -0.00587485],\n",
              "       [ 0.62967898, -0.88486506],\n",
              "       [-0.92309655,  0.12600556]])"
            ]
          },
          "metadata": {},
          "execution_count": 12
        }
      ]
    },
    {
      "cell_type": "code",
      "source": [
        "np.dot(a,b) #matrix multiplication"
      ],
      "metadata": {
        "colab": {
          "base_uri": "https://localhost:8080/"
        },
        "id": "LD7vA3OG4_11",
        "outputId": "33e0d965-e2fa-4088-b7f3-d3d857e9da18"
      },
      "execution_count": null,
      "outputs": [
        {
          "output_type": "execute_result",
          "data": {
            "text/plain": [
              "array([[-0.18352373,  1.05512941],\n",
              "       [ 3.56555901, -0.92308994]])"
            ]
          },
          "metadata": {},
          "execution_count": 13
        }
      ]
    },
    {
      "cell_type": "code",
      "source": [
        "np.matmul(a,b)  #matrix multiplication"
      ],
      "metadata": {
        "colab": {
          "base_uri": "https://localhost:8080/"
        },
        "id": "GTGGO3NG5c8k",
        "outputId": "16dae6c8-1fde-4825-ed2c-ee56261f595b"
      },
      "execution_count": null,
      "outputs": [
        {
          "output_type": "execute_result",
          "data": {
            "text/plain": [
              "array([[-0.18352373,  1.05512941],\n",
              "       [ 3.56555901, -0.92308994]])"
            ]
          },
          "metadata": {},
          "execution_count": 14
        }
      ]
    },
    {
      "cell_type": "markdown",
      "source": [
        "> Create a random matrix of shape (1000,3) and create another with a shape (3,1000) . Check the shape of the resultant matrix after multiplication."
      ],
      "metadata": {
        "id": "P_Hk-tqn6HOJ"
      }
    },
    {
      "cell_type": "code",
      "source": [
        "mat=np.random.randn(1000,3)\n",
        "mab=np.random.randn(3,1000)\n",
        "max=np.dot(mat,mab)\n",
        "max.shape"
      ],
      "metadata": {
        "colab": {
          "base_uri": "https://localhost:8080/"
        },
        "id": "seek_Z2y51mW",
        "outputId": "fe3cc211-e2ab-46e6-b6a5-20ee992b8e1e"
      },
      "execution_count": null,
      "outputs": [
        {
          "output_type": "execute_result",
          "data": {
            "text/plain": [
              "(1000, 1000)"
            ]
          },
          "metadata": {},
          "execution_count": 15
        }
      ]
    },
    {
      "cell_type": "markdown",
      "source": [
        "> **Transpose**\n",
        "\n",
        "* Create a numpy array od range 10\n",
        "* Reshape it to (5,2)\n"
      ],
      "metadata": {
        "id": "D901ml506d7K"
      }
    },
    {
      "cell_type": "code",
      "source": [],
      "metadata": {
        "id": "-ArOep0w5hVz"
      },
      "execution_count": null,
      "outputs": []
    },
    {
      "cell_type": "markdown",
      "source": [
        "# Numpy Exercises\n",
        "Multiply the following two NumPy arrays element-wise: [1, 2, 3] and [4, 5, 6], and print the result.\n",
        "\n",
        "Calculate the mean of the following NumPy array: [3, 7, 10, 15, 19], and print the result.\n",
        "\n",
        "Reshape the following NumPy array into a 2x3 matrix: [1, 2, 3, 4, 5, 6].\n",
        "\n",
        "Find the maximum value in the following NumPy array: [9, 2, 7, 5, 3], and print it.\n",
        "\n",
        "\n",
        "**More exercises**\n",
        "\n",
        "Create a 2D NumPy array with shape (5, 5) containing random integers between 1 and 100. Replace all values greater than 50 with 0 and print the modified array.\n",
        "\n",
        "Create a 1D NumPy array with 20 elements ranging from 0 to 100. Reshape the array into a 4x5 matrix and print it.\n",
        "\n",
        "Create a 3x3 matrix with random values between 0 and 1. Replace all values less than 0.5 with 0 and print the modified matrix.\n",
        "\n",
        "Create a 1D NumPy array with 100 elements ranging from 1 to 100. Reshape the array into a 10x10 matrix and calculate the sum of each row. Print the sum.\n",
        "\n",
        "Create a 2D NumPy array with shape (4, 4) containing random integers between 1 and 10. Find the indices of the maximum value in each row and print the indices.\n",
        "\n",
        "Create a 1D NumPy array with 50 random elements randomly. Calculate the mean and standard deviation of the array and print the results.\n",
        "\n",
        "Create a 2D NumPy array with shape (3, 3) and fill it with values ranging from 0 to 8. Shuffle the rows randomly and print the shuffled array.\n",
        "\n",
        "Create a 1D NumPy array with 100 elements ranging from 1 to 10. Replace all odd values with -1 and print the modified array.\n",
        "\n",
        "Create a 3x3 matrix with random values between 0 and 1. Normalize the matrix by dividing each row by the sum of its elements and print the normalized matrix.\n",
        "\n",
        "Create a 2D NumPy array with shape (5, 5) and fill it with random values between 0 and 1. Sort the elements in each column in descending order and print the sorted array."
      ],
      "metadata": {
        "id": "7oOysFDs7GAL"
      }
    },
    {
      "cell_type": "code",
      "source": [
        "a=np.array([1,2,3])\n",
        "b=np.array([4,5,6])\n",
        "a*b"
      ],
      "metadata": {
        "colab": {
          "base_uri": "https://localhost:8080/"
        },
        "id": "ZOoWgLdM7VN6",
        "outputId": "2fa0915b-6e5c-420e-f826-318995d72543"
      },
      "execution_count": null,
      "outputs": [
        {
          "output_type": "execute_result",
          "data": {
            "text/plain": [
              "array([ 4, 10, 18])"
            ]
          },
          "metadata": {},
          "execution_count": 16
        }
      ]
    },
    {
      "cell_type": "code",
      "source": [
        "b=np.array([3, 7, 10, 15, 19])\n",
        "np.mean(b)"
      ],
      "metadata": {
        "colab": {
          "base_uri": "https://localhost:8080/"
        },
        "id": "dYLVTaek7eg7",
        "outputId": "5561fb06-99fa-4379-c30c-43f537481d76"
      },
      "execution_count": null,
      "outputs": [
        {
          "output_type": "execute_result",
          "data": {
            "text/plain": [
              "10.8"
            ]
          },
          "metadata": {},
          "execution_count": 20
        }
      ]
    },
    {
      "cell_type": "code",
      "source": [
        "c=np.array([1, 2, 3, 4, 5, 6] )\n",
        "c.reshape(2,3)"
      ],
      "metadata": {
        "colab": {
          "base_uri": "https://localhost:8080/"
        },
        "id": "GwBlrt6Q7qq4",
        "outputId": "fb5c2cf7-489a-4487-ebd9-e3db15022e66"
      },
      "execution_count": null,
      "outputs": [
        {
          "output_type": "execute_result",
          "data": {
            "text/plain": [
              "array([[1, 2, 3],\n",
              "       [4, 5, 6]])"
            ]
          },
          "metadata": {},
          "execution_count": 21
        }
      ]
    },
    {
      "cell_type": "code",
      "source": [
        "d=np.array( [9, 2, 7, 5, 3])\n",
        "np.max(d)"
      ],
      "metadata": {
        "colab": {
          "base_uri": "https://localhost:8080/"
        },
        "id": "oTozOjN078VU",
        "outputId": "0658c868-e19f-4831-af41-1ac8a690dd88"
      },
      "execution_count": null,
      "outputs": [
        {
          "output_type": "execute_result",
          "data": {
            "text/plain": [
              "9"
            ]
          },
          "metadata": {},
          "execution_count": 22
        }
      ]
    },
    {
      "cell_type": "markdown",
      "source": [
        "> Create a 2D NumPy array with shape (5, 5) containing random integers between 1 and 100. Replace all values greater than 50 with 0 and print the modified array."
      ],
      "metadata": {
        "id": "jMqSpi5glQVr"
      }
    },
    {
      "cell_type": "code",
      "source": [
        "e=np.random.randint(1,100,size=(5,5))\n",
        "e[e>50]=0\n",
        "e"
      ],
      "metadata": {
        "colab": {
          "base_uri": "https://localhost:8080/"
        },
        "id": "bUGguhnW8Cm2",
        "outputId": "37aecebc-2c39-4a4b-cd83-24ec01695597"
      },
      "execution_count": null,
      "outputs": [
        {
          "output_type": "execute_result",
          "data": {
            "text/plain": [
              "array([[ 0,  0, 18,  0,  0],\n",
              "       [ 0,  0,  0, 15, 30],\n",
              "       [18,  0,  0, 20,  0],\n",
              "       [ 1, 12,  0, 21,  1],\n",
              "       [21, 20, 50, 44, 30]])"
            ]
          },
          "metadata": {},
          "execution_count": 26
        }
      ]
    },
    {
      "cell_type": "markdown",
      "source": [
        "> Create a 1D NumPy array with 20 elements ranging from 0 to 100. Reshape the array into a 4x5 matrix and print it."
      ],
      "metadata": {
        "id": "HdDYJUaClVlu"
      }
    },
    {
      "cell_type": "code",
      "source": [
        "f=np.random.randint(1,100,size=(20))\n",
        "f"
      ],
      "metadata": {
        "colab": {
          "base_uri": "https://localhost:8080/"
        },
        "id": "fp2bqYYh8Y2U",
        "outputId": "e51ba613-591d-4b3d-fa22-4fe1484b4cc5"
      },
      "execution_count": null,
      "outputs": [
        {
          "output_type": "execute_result",
          "data": {
            "text/plain": [
              "array([ 3, 75, 14, 78, 52, 26, 21, 60, 91, 86,  2, 65, 89, 91, 99, 35, 82,\n",
              "       13, 36, 20])"
            ]
          },
          "metadata": {},
          "execution_count": 33
        }
      ]
    },
    {
      "cell_type": "code",
      "source": [
        "f.reshape(4,5)"
      ],
      "metadata": {
        "colab": {
          "base_uri": "https://localhost:8080/"
        },
        "id": "Iuxeu5fb9kO2",
        "outputId": "abdb25bd-7df2-40ed-84cd-340e5c6f1f0f"
      },
      "execution_count": null,
      "outputs": [
        {
          "output_type": "execute_result",
          "data": {
            "text/plain": [
              "array([[ 3, 75, 14, 78, 52],\n",
              "       [26, 21, 60, 91, 86],\n",
              "       [ 2, 65, 89, 91, 99],\n",
              "       [35, 82, 13, 36, 20]])"
            ]
          },
          "metadata": {},
          "execution_count": 34
        }
      ]
    },
    {
      "cell_type": "markdown",
      "source": [
        "> Create a 3x3 matrix with random values between 0 and 1. Replace all values less than 0.5 with 0 and print the modified matrix."
      ],
      "metadata": {
        "id": "vgvL7bLclc6N"
      }
    },
    {
      "cell_type": "code",
      "source": [
        "g=np.random.uniform(0,1,size=(3,3))   #generate random float numbers in given range\n",
        "g"
      ],
      "metadata": {
        "colab": {
          "base_uri": "https://localhost:8080/"
        },
        "id": "0YgLbqNV9-MI",
        "outputId": "c9a03f3d-213e-45c1-f179-a77490632573"
      },
      "execution_count": null,
      "outputs": [
        {
          "output_type": "execute_result",
          "data": {
            "text/plain": [
              "array([[0.07976796, 0.5675467 , 0.5563824 ],\n",
              "       [0.68350278, 0.37222583, 0.02258564],\n",
              "       [0.55436604, 0.47558194, 0.71452329]])"
            ]
          },
          "metadata": {},
          "execution_count": 49
        }
      ]
    },
    {
      "cell_type": "code",
      "source": [
        "g[g<0.5]=0\n",
        "g"
      ],
      "metadata": {
        "colab": {
          "base_uri": "https://localhost:8080/"
        },
        "id": "EMKrK_KI-bZw",
        "outputId": "146668e1-04c0-40dd-a6a1-010d66cd4144"
      },
      "execution_count": null,
      "outputs": [
        {
          "output_type": "execute_result",
          "data": {
            "text/plain": [
              "array([[0.        , 0.5675467 , 0.5563824 ],\n",
              "       [0.68350278, 0.        , 0.        ],\n",
              "       [0.55436604, 0.        , 0.71452329]])"
            ]
          },
          "metadata": {},
          "execution_count": 50
        }
      ]
    },
    {
      "cell_type": "markdown",
      "source": [
        "> Create a 1D NumPy array with 100 elements ranging from 1 to 100. Reshape the array into a 10x10 matrix and calculate the sum of each row. Print the sum."
      ],
      "metadata": {
        "id": "w3wK0-lxl0od"
      }
    },
    {
      "cell_type": "code",
      "source": [
        "h=np.arange(1,101)  #1D array with 100 elements\n",
        "h\n",
        "h"
      ],
      "metadata": {
        "id": "IfMnB909-b3U",
        "colab": {
          "base_uri": "https://localhost:8080/"
        },
        "outputId": "36e9fd21-2e3d-456e-8d92-8dd2fecac4a3"
      },
      "execution_count": null,
      "outputs": [
        {
          "output_type": "execute_result",
          "data": {
            "text/plain": [
              "array([  1,   2,   3,   4,   5,   6,   7,   8,   9,  10,  11,  12,  13,\n",
              "        14,  15,  16,  17,  18,  19,  20,  21,  22,  23,  24,  25,  26,\n",
              "        27,  28,  29,  30,  31,  32,  33,  34,  35,  36,  37,  38,  39,\n",
              "        40,  41,  42,  43,  44,  45,  46,  47,  48,  49,  50,  51,  52,\n",
              "        53,  54,  55,  56,  57,  58,  59,  60,  61,  62,  63,  64,  65,\n",
              "        66,  67,  68,  69,  70,  71,  72,  73,  74,  75,  76,  77,  78,\n",
              "        79,  80,  81,  82,  83,  84,  85,  86,  87,  88,  89,  90,  91,\n",
              "        92,  93,  94,  95,  96,  97,  98,  99, 100])"
            ]
          },
          "metadata": {},
          "execution_count": 21
        }
      ]
    },
    {
      "cell_type": "markdown",
      "source": [
        ">NOTE\n",
        "\n",
        "np.arange us typically used for 1D arrays however you can reshape it"
      ],
      "metadata": {
        "id": "NOe7Yb4UUqhI"
      }
    },
    {
      "cell_type": "code",
      "source": [
        "h_reshaped=h.reshape(10,10)\n",
        "h_reshaped"
      ],
      "metadata": {
        "colab": {
          "base_uri": "https://localhost:8080/"
        },
        "id": "tcpkJhY8QVID",
        "outputId": "9f9e733e-346f-4ea7-c5c5-0ad3288eee85"
      },
      "execution_count": null,
      "outputs": [
        {
          "output_type": "execute_result",
          "data": {
            "text/plain": [
              "array([[  1,   2,   3,   4,   5,   6,   7,   8,   9,  10],\n",
              "       [ 11,  12,  13,  14,  15,  16,  17,  18,  19,  20],\n",
              "       [ 21,  22,  23,  24,  25,  26,  27,  28,  29,  30],\n",
              "       [ 31,  32,  33,  34,  35,  36,  37,  38,  39,  40],\n",
              "       [ 41,  42,  43,  44,  45,  46,  47,  48,  49,  50],\n",
              "       [ 51,  52,  53,  54,  55,  56,  57,  58,  59,  60],\n",
              "       [ 61,  62,  63,  64,  65,  66,  67,  68,  69,  70],\n",
              "       [ 71,  72,  73,  74,  75,  76,  77,  78,  79,  80],\n",
              "       [ 81,  82,  83,  84,  85,  86,  87,  88,  89,  90],\n",
              "       [ 91,  92,  93,  94,  95,  96,  97,  98,  99, 100]])"
            ]
          },
          "metadata": {},
          "execution_count": 26
        }
      ]
    },
    {
      "cell_type": "code",
      "source": [
        "np.sum(h)  #sum of all elements"
      ],
      "metadata": {
        "colab": {
          "base_uri": "https://localhost:8080/"
        },
        "id": "oIIa-6b-QXg6",
        "outputId": "e642165d-4f4d-441b-c8f4-cf59364338e3"
      },
      "execution_count": null,
      "outputs": [
        {
          "output_type": "execute_result",
          "data": {
            "text/plain": [
              "5050"
            ]
          },
          "metadata": {},
          "execution_count": 23
        }
      ]
    },
    {
      "cell_type": "markdown",
      "source": [
        ">NOTE\n",
        "\n",
        "* *Axis 0 :* This is the vertical direction (down the rows). When you operate along axis 0, you're performing the operation **across rows, for each column.**\n",
        "* *Axis 1 :* This is the horizontal direction (across the columns). When you operate along axis 1, you're performing the operation **across columns, for each row.**"
      ],
      "metadata": {
        "id": "GT-pIjJPTdVN"
      }
    },
    {
      "cell_type": "code",
      "source": [
        "np.sum(h_reshaped,axis=0)  #sum of each column"
      ],
      "metadata": {
        "colab": {
          "base_uri": "https://localhost:8080/"
        },
        "id": "ItzMCaBJRBz1",
        "outputId": "b23ddf73-9893-45cc-e58a-0dcbbc1125a3"
      },
      "execution_count": null,
      "outputs": [
        {
          "output_type": "execute_result",
          "data": {
            "text/plain": [
              "array([460, 470, 480, 490, 500, 510, 520, 530, 540, 550])"
            ]
          },
          "metadata": {},
          "execution_count": 24
        }
      ]
    },
    {
      "cell_type": "code",
      "source": [
        "np.sum(h_reshaped,axis=1)  #sum of each row"
      ],
      "metadata": {
        "colab": {
          "base_uri": "https://localhost:8080/"
        },
        "id": "2Y_O5tyvSwga",
        "outputId": "77a3ac03-9d7d-4b3d-da5a-17351a3dd362"
      },
      "execution_count": null,
      "outputs": [
        {
          "output_type": "execute_result",
          "data": {
            "text/plain": [
              "array([ 55, 155, 255, 355, 455, 555, 655, 755, 855, 955])"
            ]
          },
          "metadata": {},
          "execution_count": 25
        }
      ]
    },
    {
      "cell_type": "markdown",
      "source": [
        "> Create a 2D NumPy array with shape (4, 4) containing random integers between 1 and 10. Find the indices of the maximum value in each row and print the indices."
      ],
      "metadata": {
        "id": "dC2wocwMl_gS"
      }
    },
    {
      "cell_type": "code",
      "source": [
        "i=np.random.randint(1,10,size=(4,4))\n",
        "i"
      ],
      "metadata": {
        "colab": {
          "base_uri": "https://localhost:8080/"
        },
        "id": "m15rTXQbR6yw",
        "outputId": "2d9c0cde-f1e3-4a8a-b789-2298329e57c1"
      },
      "execution_count": 3,
      "outputs": [
        {
          "output_type": "execute_result",
          "data": {
            "text/plain": [
              "array([[7, 4, 8, 3],\n",
              "       [2, 4, 1, 7],\n",
              "       [9, 9, 7, 9],\n",
              "       [8, 4, 1, 6]])"
            ]
          },
          "metadata": {},
          "execution_count": 3
        }
      ]
    },
    {
      "cell_type": "code",
      "source": [
        "max=i.max(axis=1)  #max of each row\n",
        "max"
      ],
      "metadata": {
        "id": "nJug8H5TVEsQ",
        "colab": {
          "base_uri": "https://localhost:8080/"
        },
        "outputId": "6da11d57-22b6-4ed6-b89e-1b615116263a"
      },
      "execution_count": 12,
      "outputs": [
        {
          "output_type": "execute_result",
          "data": {
            "text/plain": [
              "array([8, 7, 9, 8])"
            ]
          },
          "metadata": {},
          "execution_count": 12
        }
      ]
    },
    {
      "cell_type": "code",
      "source": [
        "np.argmax(i,axis=1)  #index of max of each row"
      ],
      "metadata": {
        "colab": {
          "base_uri": "https://localhost:8080/"
        },
        "id": "npgeeStKTJjK",
        "outputId": "0020c5ef-6dbb-4ee3-9f7a-9ea46a3db3f2"
      },
      "execution_count": 15,
      "outputs": [
        {
          "output_type": "execute_result",
          "data": {
            "text/plain": [
              "array([2, 3, 0, 0])"
            ]
          },
          "metadata": {},
          "execution_count": 15
        }
      ]
    },
    {
      "cell_type": "markdown",
      "source": [
        "> Create a 1D NumPy array with 50 random elements randomly. Calculate the mean and standard deviation of the array and print the results"
      ],
      "metadata": {
        "id": "Rk4MxzXiY6RA"
      }
    },
    {
      "cell_type": "code",
      "source": [
        "j=np.random.randn(50)\n",
        "j"
      ],
      "metadata": {
        "colab": {
          "base_uri": "https://localhost:8080/"
        },
        "id": "0CDT6mNlTRlW",
        "outputId": "54fa62b9-a1c0-4c9d-8664-53ca1719fa50"
      },
      "execution_count": 28,
      "outputs": [
        {
          "output_type": "execute_result",
          "data": {
            "text/plain": [
              "array([-2.21587228e-03, -1.51864699e+00,  9.26876413e-01,  2.31048795e-01,\n",
              "        3.38448586e-01,  8.07867378e-01,  2.43651587e-01,  7.99236510e-01,\n",
              "        1.67675472e+00,  1.31405252e-01,  7.47601812e-01,  3.56178333e-01,\n",
              "       -7.89792632e-01, -2.48922102e+00,  7.26359145e-01, -1.70556349e-02,\n",
              "        1.22415153e+00, -5.78342937e-01, -5.81665780e-01,  6.47424308e-01,\n",
              "       -2.25154439e-01, -1.50761165e+00,  7.73988497e-01,  1.02268724e+00,\n",
              "        1.94946663e+00, -9.95627555e-01,  4.73267884e-01,  2.57944548e-01,\n",
              "        9.63663932e-01, -1.27139562e+00,  1.98647613e-01, -3.37804850e-01,\n",
              "        4.91800981e-01, -1.53602301e+00, -2.70893895e-01,  1.96209378e+00,\n",
              "       -7.04826931e-01, -1.67619487e+00,  1.25741213e+00,  1.79064837e+00,\n",
              "        5.89578566e-01, -1.68787315e+00,  1.35743398e-01,  9.21429775e-01,\n",
              "        1.22954630e+00,  9.52118286e-01,  8.61437808e-02,  4.32942000e-01,\n",
              "        2.60745898e-01,  1.72973466e+00])"
            ]
          },
          "metadata": {},
          "execution_count": 28
        }
      ]
    },
    {
      "cell_type": "code",
      "source": [
        "j.mean()  #mean"
      ],
      "metadata": {
        "colab": {
          "base_uri": "https://localhost:8080/"
        },
        "id": "1Bw8ljniUicv",
        "outputId": "5e12f9d3-cbf1-48cf-f43a-4bd430107bd7"
      },
      "execution_count": 29,
      "outputs": [
        {
          "output_type": "execute_result",
          "data": {
            "text/plain": [
              "0.20292523589282646"
            ]
          },
          "metadata": {},
          "execution_count": 29
        }
      ]
    },
    {
      "cell_type": "code",
      "source": [
        "j.std()  #standard deviation"
      ],
      "metadata": {
        "colab": {
          "base_uri": "https://localhost:8080/"
        },
        "id": "xi4K2vT4ZSDY",
        "outputId": "fffd19d4-06ad-4773-c187-e458f0d6e20f"
      },
      "execution_count": 30,
      "outputs": [
        {
          "output_type": "execute_result",
          "data": {
            "text/plain": [
              "1.021596970498929"
            ]
          },
          "metadata": {},
          "execution_count": 30
        }
      ]
    },
    {
      "cell_type": "markdown",
      "source": [
        "> Create a 2D NumPy array with shape (3, 3) and fill it with values ranging from 0 to 8. Shuffle the rows randomly and print the shuffled array."
      ],
      "metadata": {
        "id": "WBHgAHZcZtj1"
      }
    },
    {
      "cell_type": "code",
      "source": [
        "k=np.random.randint(0,8, size=(3,3))\n",
        "k"
      ],
      "metadata": {
        "colab": {
          "base_uri": "https://localhost:8080/"
        },
        "id": "xDBqqzEFZbTm",
        "outputId": "21dcf680-0d20-4e27-8faf-e592c8bd94e7"
      },
      "execution_count": 33,
      "outputs": [
        {
          "output_type": "execute_result",
          "data": {
            "text/plain": [
              "array([[3, 1, 2],\n",
              "       [5, 7, 7],\n",
              "       [2, 7, 7]])"
            ]
          },
          "metadata": {},
          "execution_count": 33
        }
      ]
    },
    {
      "cell_type": "code",
      "source": [
        "np.random.shuffle(k)  #shuffling rows\n",
        "k"
      ],
      "metadata": {
        "colab": {
          "base_uri": "https://localhost:8080/"
        },
        "id": "5tfvDiFeZ7EX",
        "outputId": "84ab90d9-7230-487d-cd6b-7e5cba8dd8eb"
      },
      "execution_count": 36,
      "outputs": [
        {
          "output_type": "execute_result",
          "data": {
            "text/plain": [
              "array([[5, 7, 7],\n",
              "       [3, 1, 2],\n",
              "       [2, 7, 7]])"
            ]
          },
          "metadata": {},
          "execution_count": 36
        }
      ]
    },
    {
      "cell_type": "markdown",
      "source": [
        "> Create a 1D NumPy array with 100 elements ranging from 1 to 10. Replace all odd values with -1 and print the modified array."
      ],
      "metadata": {
        "id": "fQiSpDJtbnBf"
      }
    },
    {
      "cell_type": "code",
      "source": [
        "l=np.random.randint(1,10, size=(100))\n",
        "l"
      ],
      "metadata": {
        "colab": {
          "base_uri": "https://localhost:8080/"
        },
        "id": "kNC8SseEaFKc",
        "outputId": "91ff4db0-29a5-4387-b287-9b1fd1df4a12"
      },
      "execution_count": 37,
      "outputs": [
        {
          "output_type": "execute_result",
          "data": {
            "text/plain": [
              "array([1, 2, 8, 2, 3, 7, 5, 6, 5, 4, 7, 7, 9, 3, 4, 4, 5, 7, 4, 8, 8, 1,\n",
              "       9, 2, 5, 2, 6, 7, 3, 3, 6, 1, 7, 3, 6, 6, 9, 4, 4, 3, 1, 8, 6, 9,\n",
              "       3, 9, 3, 1, 6, 7, 8, 3, 6, 9, 4, 8, 5, 2, 5, 6, 7, 7, 3, 7, 8, 9,\n",
              "       7, 2, 6, 5, 6, 3, 3, 1, 4, 1, 7, 2, 1, 4, 5, 1, 2, 4, 6, 6, 5, 7,\n",
              "       2, 1, 6, 1, 1, 9, 3, 5, 1, 8, 6, 6])"
            ]
          },
          "metadata": {},
          "execution_count": 37
        }
      ]
    },
    {
      "cell_type": "code",
      "source": [
        "l[l%2!=0]=-1\n",
        "l"
      ],
      "metadata": {
        "colab": {
          "base_uri": "https://localhost:8080/"
        },
        "id": "zL2Vb1zvbzbe",
        "outputId": "487545b5-34ab-4cad-9ba0-7f44a05403d4"
      },
      "execution_count": 44,
      "outputs": [
        {
          "output_type": "execute_result",
          "data": {
            "text/plain": [
              "array([-1,  2,  8,  2, -1, -1, -1,  6, -1,  4, -1, -1, -1, -1,  4,  4, -1,\n",
              "       -1,  4,  8,  8, -1, -1,  2, -1,  2,  6, -1, -1, -1,  6, -1, -1, -1,\n",
              "        6,  6, -1,  4,  4, -1, -1,  8,  6, -1, -1, -1, -1, -1,  6, -1,  8,\n",
              "       -1,  6, -1,  4,  8, -1,  2, -1,  6, -1, -1, -1, -1,  8, -1, -1,  2,\n",
              "        6, -1,  6, -1, -1, -1,  4, -1, -1,  2, -1,  4, -1, -1,  2,  4,  6,\n",
              "        6, -1, -1,  2, -1,  6, -1, -1, -1, -1, -1, -1,  8,  6,  6])"
            ]
          },
          "metadata": {},
          "execution_count": 44
        }
      ]
    },
    {
      "cell_type": "markdown",
      "source": [
        "> Create a 3x3 matrix with random values between 0 and 1. Normalize the matrix by dividing each row by the sum of its elements and print the normalized matrix."
      ],
      "metadata": {
        "id": "7fNOjOCGdANw"
      }
    },
    {
      "cell_type": "code",
      "source": [
        "m=np.random.uniform(0,1,size=(3,3))\n",
        "m=np.round(m,2)  #rounding to 2 decimal places\n",
        "m"
      ],
      "metadata": {
        "colab": {
          "base_uri": "https://localhost:8080/"
        },
        "id": "rRpu4U8gcE3Z",
        "outputId": "55f3372d-75ed-4cb1-a867-504e6ca50bd0"
      },
      "execution_count": 61,
      "outputs": [
        {
          "output_type": "execute_result",
          "data": {
            "text/plain": [
              "array([[0.51, 0.15, 0.46],\n",
              "       [0.2 , 0.42, 0.52],\n",
              "       [0.76, 0.71, 0.12]])"
            ]
          },
          "metadata": {},
          "execution_count": 61
        }
      ]
    },
    {
      "cell_type": "code",
      "source": [
        "for i in m:\n",
        "  i=i/i.sum(axis=0)\n",
        "  i=np.round(i,2)\n",
        "  print(i)"
      ],
      "metadata": {
        "colab": {
          "base_uri": "https://localhost:8080/"
        },
        "id": "qzTrvmCHdjyI",
        "outputId": "5c3763a6-2564-407e-9e32-35104cd95490"
      },
      "execution_count": 65,
      "outputs": [
        {
          "output_type": "stream",
          "name": "stdout",
          "text": [
            "[0.46 0.13 0.41]\n",
            "[0.18 0.37 0.46]\n",
            "[0.48 0.45 0.08]\n"
          ]
        }
      ]
    },
    {
      "cell_type": "markdown",
      "source": [
        "> Create a 2D NumPy array with shape (5, 5) and fill it with random values between 0 and 1. Sort the elements in each column in descending order and print the sorted array."
      ],
      "metadata": {
        "id": "FJ27cdLehT_a"
      }
    },
    {
      "cell_type": "code",
      "source": [
        "n=np.random.uniform(0,1,size=(5,5))\n",
        "n"
      ],
      "metadata": {
        "colab": {
          "base_uri": "https://localhost:8080/"
        },
        "id": "ZbBw2RGMgBAq",
        "outputId": "bea3dbaa-06bd-43ac-ce09-0b955ffd8fc7"
      },
      "execution_count": 67,
      "outputs": [
        {
          "output_type": "execute_result",
          "data": {
            "text/plain": [
              "array([[0.06059998, 0.78623906, 0.84172858, 0.7618754 , 0.78035978],\n",
              "       [0.40500385, 0.0216395 , 0.01537724, 0.75347981, 0.55481971],\n",
              "       [0.21994326, 0.04226089, 0.34557671, 0.5831539 , 0.97971026],\n",
              "       [0.2002349 , 0.15420308, 0.91951681, 0.83809879, 0.05603785],\n",
              "       [0.41836409, 0.8563111 , 0.31232362, 0.56673186, 0.572855  ]])"
            ]
          },
          "metadata": {},
          "execution_count": 67
        }
      ]
    },
    {
      "cell_type": "code",
      "source": [
        "np.sort(n,axis=0)  #sorting each column in ascending order\n"
      ],
      "metadata": {
        "colab": {
          "base_uri": "https://localhost:8080/"
        },
        "id": "OHEtSp-Wjfae",
        "outputId": "d48aa497-90fc-4918-ae60-2a489b4be451"
      },
      "execution_count": 73,
      "outputs": [
        {
          "output_type": "execute_result",
          "data": {
            "text/plain": [
              "array([[0.06059998, 0.0216395 , 0.01537724, 0.56673186, 0.05603785],\n",
              "       [0.2002349 , 0.04226089, 0.31232362, 0.5831539 , 0.55481971],\n",
              "       [0.21994326, 0.15420308, 0.34557671, 0.75347981, 0.572855  ],\n",
              "       [0.40500385, 0.78623906, 0.84172858, 0.7618754 , 0.78035978],\n",
              "       [0.41836409, 0.8563111 , 0.91951681, 0.83809879, 0.97971026]])"
            ]
          },
          "metadata": {},
          "execution_count": 73
        }
      ]
    },
    {
      "cell_type": "code",
      "source": [
        "# Sort the array along axis=0 (columns) in descending order\n",
        "np.sort(n, axis=0)[::-1]"
      ],
      "metadata": {
        "colab": {
          "base_uri": "https://localhost:8080/"
        },
        "id": "HnbmSGljjkdO",
        "outputId": "c890a454-3a0b-49b0-b6f3-f6431c42cfd6"
      },
      "execution_count": 75,
      "outputs": [
        {
          "output_type": "execute_result",
          "data": {
            "text/plain": [
              "array([[0.41836409, 0.8563111 , 0.91951681, 0.83809879, 0.97971026],\n",
              "       [0.40500385, 0.78623906, 0.84172858, 0.7618754 , 0.78035978],\n",
              "       [0.21994326, 0.15420308, 0.34557671, 0.75347981, 0.572855  ],\n",
              "       [0.2002349 , 0.04226089, 0.31232362, 0.5831539 , 0.55481971],\n",
              "       [0.06059998, 0.0216395 , 0.01537724, 0.56673186, 0.05603785]])"
            ]
          },
          "metadata": {},
          "execution_count": 75
        }
      ]
    },
    {
      "cell_type": "code",
      "source": [
        "# Sort the array along axis=1 (rows) in descending order\n",
        "np.sort(n, axis=1)[:, ::-1]"
      ],
      "metadata": {
        "colab": {
          "base_uri": "https://localhost:8080/"
        },
        "id": "gOzP1NpmkrgA",
        "outputId": "10dd7265-a0b3-4189-b9f7-a5f839dd0e81"
      },
      "execution_count": 76,
      "outputs": [
        {
          "output_type": "execute_result",
          "data": {
            "text/plain": [
              "array([[0.84172858, 0.78623906, 0.78035978, 0.7618754 , 0.06059998],\n",
              "       [0.75347981, 0.55481971, 0.40500385, 0.0216395 , 0.01537724],\n",
              "       [0.97971026, 0.5831539 , 0.34557671, 0.21994326, 0.04226089],\n",
              "       [0.91951681, 0.83809879, 0.2002349 , 0.15420308, 0.05603785],\n",
              "       [0.8563111 , 0.572855  , 0.56673186, 0.41836409, 0.31232362]])"
            ]
          },
          "metadata": {},
          "execution_count": 76
        }
      ]
    },
    {
      "cell_type": "markdown",
      "source": [
        "**Explanation:**\n",
        "\n",
        "np.sort(n, axis=0) sorts the array n along the columns (axis 0) in ascending order.\n",
        "\n",
        "[::-1] reverses the order of the sorted array to make it descending.\n",
        "\n",
        "np.sort(n, axis=1) sorts the array n along the rows (axis 1) in ascending order.\n",
        "\n",
        "[:, ::-1] reverses the order of each row in the sorted array to make it descending."
      ],
      "metadata": {
        "id": "jADBHuugk78Y"
      }
    }
  ]
}