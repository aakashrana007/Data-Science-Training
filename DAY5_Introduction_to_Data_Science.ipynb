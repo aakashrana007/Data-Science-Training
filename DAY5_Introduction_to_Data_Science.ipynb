{
  "nbformat": 4,
  "nbformat_minor": 0,
  "metadata": {
    "colab": {
      "provenance": [],
      "authorship_tag": "ABX9TyNNIhhe5UgcrcKygFsW5Awg",
      "include_colab_link": true
    },
    "kernelspec": {
      "name": "python3",
      "display_name": "Python 3"
    },
    "language_info": {
      "name": "python"
    }
  },
  "cells": [
    {
      "cell_type": "markdown",
      "metadata": {
        "id": "view-in-github",
        "colab_type": "text"
      },
      "source": [
        "<a href=\"https://colab.research.google.com/github/aakashrana007/Data-Science-Training/blob/main/DAY5_Introduction_to_Data_Science.ipynb\" target=\"_parent\"><img src=\"https://colab.research.google.com/assets/colab-badge.svg\" alt=\"Open In Colab\"/></a>"
      ]
    },
    {
      "cell_type": "markdown",
      "source": [
        "**Pandas**-used for data manipulation\n",
        "\n",
        "**Numpy**-mathematical calculation, faster than regular python by 1.5X\n",
        "\n",
        "**Matplot**-Data Visualiazation, Graphs, Histogram, 2D\n",
        "\n",
        "**Seaborn**- a family of Matplot + pandas combined with it\n",
        "\n",
        "**Machine Learning**- uses probability and statistics\n",
        "\n",
        "\n",
        "**Helpful sites-**\n",
        "1. Medium\n",
        "2. Github\n",
        "3. Academia\n",
        "4. ResearchGate\n",
        "5. Kaggle"
      ],
      "metadata": {
        "id": "r_hrUnklqULa"
      }
    },
    {
      "cell_type": "code",
      "source": [],
      "metadata": {
        "id": "KJRv6rV7qTyp"
      },
      "execution_count": null,
      "outputs": []
    },
    {
      "cell_type": "code",
      "execution_count": null,
      "metadata": {
        "id": "NCG9PWLeqNf_"
      },
      "outputs": [],
      "source": []
    }
  ]
}