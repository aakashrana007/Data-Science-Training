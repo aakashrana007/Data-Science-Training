{
  "nbformat": 4,
  "nbformat_minor": 0,
  "metadata": {
    "colab": {
      "provenance": [],
      "authorship_tag": "ABX9TyMKxHOeyfA8FdFWFmP/hoBA",
      "include_colab_link": true
    },
    "kernelspec": {
      "name": "python3",
      "display_name": "Python 3"
    },
    "language_info": {
      "name": "python"
    }
  },
  "cells": [
    {
      "cell_type": "markdown",
      "metadata": {
        "id": "view-in-github",
        "colab_type": "text"
      },
      "source": [
        "<a href=\"https://colab.research.google.com/github/aakashrana007/Data-Science-Training/blob/main/DAY2_operators%26strings.ipynb\" target=\"_parent\"><img src=\"https://colab.research.google.com/assets/colab-badge.svg\" alt=\"Open In Colab\"/></a>"
      ]
    },
    {
      "cell_type": "markdown",
      "source": [
        "Arithmetic Operators\n"
      ],
      "metadata": {
        "id": "WV7IpI1kzt8g"
      }
    },
    {
      "cell_type": "code",
      "execution_count": null,
      "metadata": {
        "colab": {
          "base_uri": "https://localhost:8080/"
        },
        "id": "VjuYt5bhzkjn",
        "outputId": "e8f09134-a442-44d9-c17a-3070e6445c8a"
      },
      "outputs": [
        {
          "output_type": "stream",
          "name": "stdout",
          "text": [
            "30\n"
          ]
        }
      ],
      "source": [
        "a=10\n",
        "b=20\n",
        "c=a+b\n",
        "print(c)"
      ]
    },
    {
      "cell_type": "code",
      "source": [
        "a-b"
      ],
      "metadata": {
        "colab": {
          "base_uri": "https://localhost:8080/"
        },
        "id": "B_uAtARU0W2D",
        "outputId": "370143ce-8060-4b93-ef24-35afa27ba475"
      },
      "execution_count": null,
      "outputs": [
        {
          "output_type": "execute_result",
          "data": {
            "text/plain": [
              "-10"
            ]
          },
          "metadata": {},
          "execution_count": 7
        }
      ]
    },
    {
      "cell_type": "code",
      "source": [
        "a/b"
      ],
      "metadata": {
        "colab": {
          "base_uri": "https://localhost:8080/"
        },
        "id": "ZCS0hNry0YSE",
        "outputId": "42748be6-01f3-4803-d4ea-b6ee44c43a94"
      },
      "execution_count": null,
      "outputs": [
        {
          "output_type": "execute_result",
          "data": {
            "text/plain": [
              "0.5"
            ]
          },
          "metadata": {},
          "execution_count": 8
        }
      ]
    },
    {
      "cell_type": "code",
      "source": [
        "a//b        #floor division"
      ],
      "metadata": {
        "colab": {
          "base_uri": "https://localhost:8080/"
        },
        "id": "c79nabmG4ZWp",
        "outputId": "07c231bc-7424-4518-dde1-b7c3187484ff"
      },
      "execution_count": null,
      "outputs": [
        {
          "output_type": "execute_result",
          "data": {
            "text/plain": [
              "0"
            ]
          },
          "metadata": {},
          "execution_count": 36
        }
      ]
    },
    {
      "cell_type": "code",
      "source": [
        "2e5"
      ],
      "metadata": {
        "colab": {
          "base_uri": "https://localhost:8080/"
        },
        "id": "DCS2_Zh40ZIZ",
        "outputId": "61c7fe09-15c1-4d8f-c24e-0d0e79b10be1"
      },
      "execution_count": null,
      "outputs": [
        {
          "output_type": "execute_result",
          "data": {
            "text/plain": [
              "200000.0"
            ]
          },
          "metadata": {},
          "execution_count": 11
        }
      ]
    },
    {
      "cell_type": "markdown",
      "source": [
        "**String:**"
      ],
      "metadata": {
        "id": "lsAflQ4r3VSX"
      }
    },
    {
      "cell_type": "code",
      "source": [
        "n=\"Aakash Rana\"\n",
        "len(n)"
      ],
      "metadata": {
        "colab": {
          "base_uri": "https://localhost:8080/"
        },
        "id": "T0ft98vt1vm0",
        "outputId": "1761a58d-b175-4347-bdd6-79ea809b441f"
      },
      "execution_count": null,
      "outputs": [
        {
          "output_type": "execute_result",
          "data": {
            "text/plain": [
              "11"
            ]
          },
          "metadata": {},
          "execution_count": 15
        }
      ]
    },
    {
      "cell_type": "markdown",
      "source": [
        "**String indexing:**"
      ],
      "metadata": {
        "id": "S0C_JCNP3mRD"
      }
    },
    {
      "cell_type": "code",
      "source": [
        "m=\"banana\"\n",
        "m[5]    #single letter\n",
        "#for multiple letters:\n",
        "for index,char in enumerate(m):\n",
        "  print(f\"{index}:{char}\")\n",
        "for i in range(len(m)):\n",
        "  print(f\"{i}:{m[i]}\")"
      ],
      "metadata": {
        "colab": {
          "base_uri": "https://localhost:8080/"
        },
        "id": "9uMDFTT62onK",
        "outputId": "93ac7f3f-960a-451a-9f14-cda2c94d2fc9"
      },
      "execution_count": null,
      "outputs": [
        {
          "output_type": "stream",
          "name": "stdout",
          "text": [
            "0:b\n",
            "1:a\n",
            "2:n\n",
            "3:a\n",
            "4:n\n",
            "5:a\n",
            "0:b\n",
            "1:a\n",
            "2:n\n",
            "3:a\n",
            "4:n\n",
            "5:a\n"
          ]
        }
      ]
    },
    {
      "cell_type": "markdown",
      "source": [
        "**String Slicing:**"
      ],
      "metadata": {
        "id": "_XGP9BnO3QFX"
      }
    },
    {
      "cell_type": "code",
      "source": [
        "m[1:3]"
      ],
      "metadata": {
        "colab": {
          "base_uri": "https://localhost:8080/",
          "height": 35
        },
        "id": "9vORrtK63TML",
        "outputId": "ea90582f-f5c3-4c36-963d-a23ac90acf3c"
      },
      "execution_count": null,
      "outputs": [
        {
          "output_type": "execute_result",
          "data": {
            "text/plain": [
              "'an'"
            ],
            "application/vnd.google.colaboratory.intrinsic+json": {
              "type": "string"
            }
          },
          "metadata": {},
          "execution_count": 32
        }
      ]
    },
    {
      "cell_type": "code",
      "source": [
        "String Concatinate:"
      ],
      "metadata": {
        "id": "kN-aEg5-4n7q"
      },
      "execution_count": null,
      "outputs": []
    },
    {
      "cell_type": "code",
      "source": [
        "m+\" \" +n"
      ],
      "metadata": {
        "colab": {
          "base_uri": "https://localhost:8080/",
          "height": 35
        },
        "id": "CXlgd2em4dRI",
        "outputId": "f16d3f9c-0dd4-4297-a0d6-487cc23c29a9"
      },
      "execution_count": null,
      "outputs": [
        {
          "output_type": "execute_result",
          "data": {
            "text/plain": [
              "'banana Aakash Rana'"
            ],
            "application/vnd.google.colaboratory.intrinsic+json": {
              "type": "string"
            }
          },
          "metadata": {},
          "execution_count": 33
        }
      ]
    },
    {
      "cell_type": "code",
      "source": [
        "c=\"pokhara \"\n",
        "c*2         #repeats string two times"
      ],
      "metadata": {
        "colab": {
          "base_uri": "https://localhost:8080/",
          "height": 35
        },
        "id": "_bj6QXXr5Ss_",
        "outputId": "c477351f-2f4f-4019-d254-979f1a85a182"
      },
      "execution_count": null,
      "outputs": [
        {
          "output_type": "execute_result",
          "data": {
            "text/plain": [
              "'pokhara pokhara '"
            ],
            "application/vnd.google.colaboratory.intrinsic+json": {
              "type": "string"
            }
          },
          "metadata": {},
          "execution_count": 37
        }
      ]
    },
    {
      "cell_type": "markdown",
      "source": [
        "**The \"in\" syntax:**"
      ],
      "metadata": {
        "id": "7Ts3iyaZ6FB9"
      }
    },
    {
      "cell_type": "code",
      "source": [
        "sentence=\"I love Nepal\"\n",
        "\"love\" in sentence"
      ],
      "metadata": {
        "colab": {
          "base_uri": "https://localhost:8080/"
        },
        "id": "jgzfI3I86JVk",
        "outputId": "121072da-f275-45af-e030-3785b2258b08"
      },
      "execution_count": null,
      "outputs": [
        {
          "output_type": "execute_result",
          "data": {
            "text/plain": [
              "True"
            ]
          },
          "metadata": {},
          "execution_count": 41
        }
      ]
    },
    {
      "cell_type": "markdown",
      "source": [
        "Iterative string:"
      ],
      "metadata": {
        "id": "cjeca8Oa7MkD"
      }
    },
    {
      "cell_type": "code",
      "source": [
        "word=\"kathmandu\"\n",
        "for i in word:\n",
        "  print(i)"
      ],
      "metadata": {
        "colab": {
          "base_uri": "https://localhost:8080/"
        },
        "id": "5ChtikEV7yar",
        "outputId": "c7489393-0f6d-4af7-cfc5-043f7138313d"
      },
      "execution_count": null,
      "outputs": [
        {
          "output_type": "stream",
          "name": "stdout",
          "text": [
            "k\n",
            "a\n",
            "t\n",
            "h\n",
            "m\n",
            "a\n",
            "n\n",
            "d\n",
            "u\n"
          ]
        }
      ]
    },
    {
      "cell_type": "markdown",
      "source": [
        "String Methods:"
      ],
      "metadata": {
        "id": "fOPNw-ur-ScF"
      }
    },
    {
      "cell_type": "code",
      "source": [
        "sentence.upper()"
      ],
      "metadata": {
        "colab": {
          "base_uri": "https://localhost:8080/",
          "height": 35
        },
        "id": "6zpeHStQ76b1",
        "outputId": "b7e700f6-778b-442d-b072-44ab0a1a25db"
      },
      "execution_count": null,
      "outputs": [
        {
          "output_type": "execute_result",
          "data": {
            "text/plain": [
              "'I LOVE NEPAL'"
            ],
            "application/vnd.google.colaboratory.intrinsic+json": {
              "type": "string"
            }
          },
          "metadata": {},
          "execution_count": 49
        }
      ]
    },
    {
      "cell_type": "code",
      "source": [
        "sentence.lower()"
      ],
      "metadata": {
        "colab": {
          "base_uri": "https://localhost:8080/",
          "height": 35
        },
        "id": "WaCQBYXM8bCi",
        "outputId": "43c5a6be-9055-4a85-a257-5c80569c7746"
      },
      "execution_count": null,
      "outputs": [
        {
          "output_type": "execute_result",
          "data": {
            "text/plain": [
              "'i love nepal'"
            ],
            "application/vnd.google.colaboratory.intrinsic+json": {
              "type": "string"
            }
          },
          "metadata": {},
          "execution_count": 50
        }
      ]
    },
    {
      "cell_type": "code",
      "source": [
        "sentence.casefold()"
      ],
      "metadata": {
        "colab": {
          "base_uri": "https://localhost:8080/",
          "height": 35
        },
        "id": "zsW-JXJo8cuP",
        "outputId": "e8954e44-d6f0-425d-beea-d4f69082b492"
      },
      "execution_count": null,
      "outputs": [
        {
          "output_type": "execute_result",
          "data": {
            "text/plain": [
              "'i love nepal'"
            ],
            "application/vnd.google.colaboratory.intrinsic+json": {
              "type": "string"
            }
          },
          "metadata": {},
          "execution_count": 51
        }
      ]
    },
    {
      "cell_type": "code",
      "source": [
        "sentence.capitalize()"
      ],
      "metadata": {
        "colab": {
          "base_uri": "https://localhost:8080/",
          "height": 35
        },
        "id": "HJN4iFWq8e0G",
        "outputId": "815a87a6-9376-4203-d29b-5fec3ac44997"
      },
      "execution_count": null,
      "outputs": [
        {
          "output_type": "execute_result",
          "data": {
            "text/plain": [
              "'I love nepal'"
            ],
            "application/vnd.google.colaboratory.intrinsic+json": {
              "type": "string"
            }
          },
          "metadata": {},
          "execution_count": 52
        }
      ]
    },
    {
      "cell_type": "code",
      "source": [
        "sentence.replace(\"love\",\"like\")"
      ],
      "metadata": {
        "colab": {
          "base_uri": "https://localhost:8080/",
          "height": 35
        },
        "id": "v1bfWQL98hKo",
        "outputId": "0f2aaacb-3bf8-4a3b-a345-8f349f4026ad"
      },
      "execution_count": null,
      "outputs": [
        {
          "output_type": "execute_result",
          "data": {
            "text/plain": [
              "'I like Nepal'"
            ],
            "application/vnd.google.colaboratory.intrinsic+json": {
              "type": "string"
            }
          },
          "metadata": {},
          "execution_count": 59
        }
      ]
    },
    {
      "cell_type": "markdown",
      "source": [
        "# Escape Character: \"\\\\\""
      ],
      "metadata": {
        "id": "ygyEkVfx_Sg_"
      }
    },
    {
      "cell_type": "code",
      "source": [
        "text=\"She said \\\"Never let go\\\".\"\n",
        "text"
      ],
      "metadata": {
        "colab": {
          "base_uri": "https://localhost:8080/",
          "height": 35
        },
        "id": "BF4mGL5d_UXG",
        "outputId": "8728fa09-c4b5-4031-dfb2-d277c54af8bc"
      },
      "execution_count": null,
      "outputs": [
        {
          "output_type": "execute_result",
          "data": {
            "text/plain": [
              "'She said \"Never let go\".'"
            ],
            "application/vnd.google.colaboratory.intrinsic+json": {
              "type": "string"
            }
          },
          "metadata": {},
          "execution_count": 63
        }
      ]
    },
    {
      "cell_type": "markdown",
      "source": [
        "String Count:"
      ],
      "metadata": {
        "id": "WNNQsPwPBX3N"
      }
    },
    {
      "cell_type": "code",
      "source": [
        "text.count('s')"
      ],
      "metadata": {
        "colab": {
          "base_uri": "https://localhost:8080/"
        },
        "id": "37Ujzz79_gzE",
        "outputId": "ae427107-c296-490e-8106-b8fe9ea2b250"
      },
      "execution_count": null,
      "outputs": [
        {
          "output_type": "execute_result",
          "data": {
            "text/plain": [
              "1"
            ]
          },
          "metadata": {},
          "execution_count": 70
        }
      ]
    },
    {
      "cell_type": "markdown",
      "source": [
        "**CLASSWORK:**"
      ],
      "metadata": {
        "id": "SPCaVOcPBqar"
      }
    },
    {
      "cell_type": "code",
      "source": [
        "a=7\n",
        "for i in range(1,11):\n",
        "  print(f\"The value of {a}*{i} is {a*i}\")\n",
        "\n",
        "print(f\"The value of {a}*11 is {a*11}\")\n",
        "print(f\"The value of {a}*12 is {a*12}\")\n",
        "print(f\"The value of {a}*13 is {a*13}\")\n",
        "print(f\"The value of {a}*14 is {a*14}\")\n",
        "print(f\"The value of {a}*15 is {a*15}\")"
      ],
      "metadata": {
        "colab": {
          "base_uri": "https://localhost:8080/"
        },
        "id": "xhL4DTPKBeY3",
        "outputId": "d2e81653-87a6-4c0c-d193-db3fcac26efd"
      },
      "execution_count": null,
      "outputs": [
        {
          "output_type": "stream",
          "name": "stdout",
          "text": [
            "The value of 7*1 is 7\n",
            "The value of 7*2 is 14\n",
            "The value of 7*3 is 21\n",
            "The value of 7*4 is 28\n",
            "The value of 7*5 is 35\n",
            "The value of 7*6 is 42\n",
            "The value of 7*7 is 49\n",
            "The value of 7*8 is 56\n",
            "The value of 7*9 is 63\n",
            "The value of 7*10 is 70\n",
            "The value of 7*11 is 77\n",
            "The value of 7*12 is 84\n",
            "The value of 7*13 is 91\n",
            "The value of 7*14 is 98\n",
            "The value of 7*15 is 105\n"
          ]
        }
      ]
    }
  ]
}